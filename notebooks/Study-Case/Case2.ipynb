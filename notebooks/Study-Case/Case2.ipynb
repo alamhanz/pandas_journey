{
 "cells": [
  {
   "cell_type": "markdown",
   "metadata": {},
   "source": [
    "Day 2 (part2)\n",
    "\n",
    "From Employee Dataset :\n",
    "1. average of vote who still Exist on November 2016\n",
    "2. average of len of text who churn on April 2017\n",
    "3. how many customer who active on September 2018? and how many who still active on November 2018?"
   ]
  }
 ],
 "metadata": {
  "kernelspec": {
   "display_name": "Python 3",
   "language": "python",
   "name": "python3"
  },
  "language_info": {
   "codemirror_mode": {
    "name": "ipython",
    "version": 3
   },
   "file_extension": ".py",
   "mimetype": "text/x-python",
   "name": "python",
   "nbconvert_exporter": "python",
   "pygments_lexer": "ipython3",
   "version": "3.8.8"
  }
 },
 "nbformat": 4,
 "nbformat_minor": 4
}
