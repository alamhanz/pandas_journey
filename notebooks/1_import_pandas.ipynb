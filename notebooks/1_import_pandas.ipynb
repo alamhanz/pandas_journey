{
 "cells": [
  {
   "cell_type": "markdown",
   "metadata": {},
   "source": [
    "# 1. Import Pandas\n",
    "\n",
    "**History of development**\n",
    "\n",
    "In 2008, pandas development began at AQR Capital Management. By the end of 2009 it had been open sourced, and is actively supported today by a community of like-minded individuals around the world who contribute their valuable time and energy to help make open source pandas possible. Thank you to all of our contributors.\n",
    "\n",
    "Since 2015, pandas is a NumFOCUS sponsored project. This will help ensure the success of development of pandas as a world-class open-source project.\n",
    "\n",
    "Timeline\n",
    "2008: Development of pandas started\n",
    "2009: pandas becomes open source\n",
    "2012: First edition of Python for Data Analysis is published\n",
    "2015: pandas becomes a NumFOCUS sponsored project\n",
    "2018: First in-person core developer sprint\n",
    "\n",
    "source : https://pandas.pydata.org/about/\n"
   ]
  },
  {
   "cell_type": "code",
   "execution_count": 1,
   "metadata": {},
   "outputs": [],
   "source": [
    "import pandas as pd\n",
    "import numpy as np"
   ]
  },
  {
   "cell_type": "code",
   "execution_count": 2,
   "metadata": {},
   "outputs": [
    {
     "data": {
      "text/plain": [
       "'1.2.4'"
      ]
     },
     "execution_count": 2,
     "metadata": {},
     "output_type": "execute_result"
    }
   ],
   "source": [
    "pd.__version__"
   ]
  },
  {
   "cell_type": "code",
   "execution_count": 3,
   "metadata": {},
   "outputs": [],
   "source": [
    "# !pip install pandas == 0.24.1"
   ]
  },
  {
   "cell_type": "code",
   "execution_count": null,
   "metadata": {},
   "outputs": [],
   "source": []
  },
  {
   "cell_type": "markdown",
   "metadata": {},
   "source": [
    "## Set Options\n",
    "\n",
    "click https://pandas.pydata.org/pandas-docs/stable/user_guide/options.html for more"
   ]
  },
  {
   "cell_type": "code",
   "execution_count": 4,
   "metadata": {},
   "outputs": [],
   "source": [
    "pd.set_option('display.notebook_repr_html', False)\n",
    "pd.set_option('display.max_columns', 8)\n",
    "pd.set_option('display.max_rows', 8)\n",
    "pd.set_option('display.width', 80)"
   ]
  },
  {
   "cell_type": "code",
   "execution_count": null,
   "metadata": {},
   "outputs": [],
   "source": []
  },
  {
   "cell_type": "markdown",
   "metadata": {},
   "source": [
    "## DataFrame"
   ]
  },
  {
   "cell_type": "code",
   "execution_count": 6,
   "metadata": {},
   "outputs": [],
   "source": [
    "A = [0,1,4,7,1,2,5,7,9,7,2]\n",
    "B = [4,1,4,6,7,9,9,4,7,1,2]\n",
    "C = [3,6,4,9,9,8,8,7,1,2,1]\n",
    "E = np.arange(200,320,len(A))\n",
    "F = np.random.normal(size=len(A))"
   ]
  },
  {
   "cell_type": "code",
   "execution_count": 7,
   "metadata": {},
   "outputs": [
    {
     "data": {
      "text/plain": [
       "array([200, 211, 222, 233, 244, 255, 266, 277, 288, 299, 310])"
      ]
     },
     "execution_count": 7,
     "metadata": {},
     "output_type": "execute_result"
    }
   ],
   "source": [
    "E"
   ]
  },
  {
   "cell_type": "code",
   "execution_count": 8,
   "metadata": {},
   "outputs": [
    {
     "data": {
      "text/plain": [
       "array([-0.11261821, -1.63410876,  0.03535861,  0.03272837, -0.20964675,\n",
       "        2.04186186,  0.72563255, -0.67784043, -0.46252845,  1.55554675,\n",
       "       -1.25643314])"
      ]
     },
     "execution_count": 8,
     "metadata": {},
     "output_type": "execute_result"
    }
   ],
   "source": [
    "F"
   ]
  },
  {
   "cell_type": "code",
   "execution_count": 9,
   "metadata": {},
   "outputs": [],
   "source": [
    "data_gen = pd.DataFrame({'A1' : A, 'B1' : B, 'C1' : C, 'D1' : E, 'E1': F})"
   ]
  },
  {
   "cell_type": "code",
   "execution_count": 10,
   "metadata": {},
   "outputs": [
    {
     "data": {
      "text/plain": [
       "    A1  B1  C1   D1        E1\n",
       "0    0   4   3  200 -0.112618\n",
       "1    1   1   6  211 -1.634109\n",
       "2    4   4   4  222  0.035359\n",
       "3    7   6   9  233  0.032728\n",
       "..  ..  ..  ..  ...       ...\n",
       "7    7   4   7  277 -0.677840\n",
       "8    9   7   1  288 -0.462528\n",
       "9    7   1   2  299  1.555547\n",
       "10   2   2   1  310 -1.256433\n",
       "\n",
       "[11 rows x 5 columns]"
      ]
     },
     "execution_count": 10,
     "metadata": {},
     "output_type": "execute_result"
    }
   ],
   "source": [
    "data_gen"
   ]
  },
  {
   "cell_type": "code",
   "execution_count": null,
   "metadata": {},
   "outputs": [],
   "source": []
  },
  {
   "cell_type": "code",
   "execution_count": 11,
   "metadata": {},
   "outputs": [
    {
     "data": {
      "text/plain": [
       "pandas.core.frame.DataFrame"
      ]
     },
     "execution_count": 11,
     "metadata": {},
     "output_type": "execute_result"
    }
   ],
   "source": [
    "type(data_gen)"
   ]
  },
  {
   "cell_type": "code",
   "execution_count": 36,
   "metadata": {},
   "outputs": [
    {
     "data": {
      "text/plain": [
       "Index(['A1', 'B1', 'C1', 'D1', 'E1'], dtype='object')"
      ]
     },
     "execution_count": 36,
     "metadata": {},
     "output_type": "execute_result"
    }
   ],
   "source": [
    "data_gen.columns"
   ]
  },
  {
   "cell_type": "code",
   "execution_count": null,
   "metadata": {},
   "outputs": [],
   "source": []
  },
  {
   "cell_type": "code",
   "execution_count": null,
   "metadata": {},
   "outputs": [],
   "source": []
  },
  {
   "cell_type": "code",
   "execution_count": 14,
   "metadata": {},
   "outputs": [
    {
     "data": {
      "text/plain": [
       "array([[ 0.00000000e+00,  4.00000000e+00,  3.00000000e+00,\n",
       "         2.00000000e+02, -1.12618214e-01],\n",
       "       [ 1.00000000e+00,  1.00000000e+00,  6.00000000e+00,\n",
       "         2.11000000e+02, -1.63410876e+00],\n",
       "       [ 4.00000000e+00,  4.00000000e+00,  4.00000000e+00,\n",
       "         2.22000000e+02,  3.53586063e-02],\n",
       "       [ 7.00000000e+00,  6.00000000e+00,  9.00000000e+00,\n",
       "         2.33000000e+02,  3.27283736e-02],\n",
       "       [ 1.00000000e+00,  7.00000000e+00,  9.00000000e+00,\n",
       "         2.44000000e+02, -2.09646750e-01],\n",
       "       [ 2.00000000e+00,  9.00000000e+00,  8.00000000e+00,\n",
       "         2.55000000e+02,  2.04186186e+00],\n",
       "       [ 5.00000000e+00,  9.00000000e+00,  8.00000000e+00,\n",
       "         2.66000000e+02,  7.25632548e-01],\n",
       "       [ 7.00000000e+00,  4.00000000e+00,  7.00000000e+00,\n",
       "         2.77000000e+02, -6.77840426e-01],\n",
       "       [ 9.00000000e+00,  7.00000000e+00,  1.00000000e+00,\n",
       "         2.88000000e+02, -4.62528450e-01],\n",
       "       [ 7.00000000e+00,  1.00000000e+00,  2.00000000e+00,\n",
       "         2.99000000e+02,  1.55554675e+00],\n",
       "       [ 2.00000000e+00,  2.00000000e+00,  1.00000000e+00,\n",
       "         3.10000000e+02, -1.25643314e+00]])"
      ]
     },
     "execution_count": 14,
     "metadata": {},
     "output_type": "execute_result"
    }
   ],
   "source": [
    "## To_Array\n",
    "data_gen.values"
   ]
  },
  {
   "cell_type": "code",
   "execution_count": null,
   "metadata": {},
   "outputs": [],
   "source": []
  },
  {
   "cell_type": "markdown",
   "metadata": {},
   "source": [
    "## Series"
   ]
  },
  {
   "cell_type": "code",
   "execution_count": 19,
   "metadata": {},
   "outputs": [
    {
     "data": {
      "text/plain": [
       "[0, 1, 4, 7, 1, 2, 5, 7, 9, 7, 2]"
      ]
     },
     "execution_count": 19,
     "metadata": {},
     "output_type": "execute_result"
    }
   ],
   "source": [
    "A"
   ]
  },
  {
   "cell_type": "code",
   "execution_count": 20,
   "metadata": {},
   "outputs": [],
   "source": [
    "series_gen = pd.Series(A)\n",
    "series_gen2 = pd.Series(F)"
   ]
  },
  {
   "cell_type": "code",
   "execution_count": 21,
   "metadata": {},
   "outputs": [
    {
     "data": {
      "text/plain": [
       "0     0\n",
       "1     1\n",
       "2     4\n",
       "3     7\n",
       "     ..\n",
       "7     7\n",
       "8     9\n",
       "9     7\n",
       "10    2\n",
       "Length: 11, dtype: int64"
      ]
     },
     "execution_count": 21,
     "metadata": {},
     "output_type": "execute_result"
    }
   ],
   "source": [
    "series_gen"
   ]
  },
  {
   "cell_type": "code",
   "execution_count": 22,
   "metadata": {},
   "outputs": [
    {
     "data": {
      "text/plain": [
       "0    -0.112618\n",
       "1    -1.634109\n",
       "2     0.035359\n",
       "3     0.032728\n",
       "        ...   \n",
       "7    -0.677840\n",
       "8    -0.462528\n",
       "9     1.555547\n",
       "10   -1.256433\n",
       "Length: 11, dtype: float64"
      ]
     },
     "execution_count": 22,
     "metadata": {},
     "output_type": "execute_result"
    }
   ],
   "source": [
    "series_gen2"
   ]
  },
  {
   "cell_type": "code",
   "execution_count": 23,
   "metadata": {},
   "outputs": [
    {
     "data": {
      "text/plain": [
       "pandas.core.series.Series"
      ]
     },
     "execution_count": 23,
     "metadata": {},
     "output_type": "execute_result"
    }
   ],
   "source": [
    "type(series_gen)"
   ]
  },
  {
   "cell_type": "code",
   "execution_count": 26,
   "metadata": {},
   "outputs": [
    {
     "data": {
      "text/plain": [
       "['A0', 'A1', 'A2', 'A3', 'A4', 'A5', 'A6', 'A7', 'A8', 'A9', 'A10']"
      ]
     },
     "execution_count": 26,
     "metadata": {},
     "output_type": "execute_result"
    }
   ],
   "source": [
    "new_i =  ['A'+str(i) for i in range(len(A))]\n",
    "new_i"
   ]
  },
  {
   "cell_type": "code",
   "execution_count": 24,
   "metadata": {},
   "outputs": [],
   "source": [
    "series_gen2 = pd.Series(A, index = new_i)"
   ]
  },
  {
   "cell_type": "code",
   "execution_count": 27,
   "metadata": {},
   "outputs": [
    {
     "data": {
      "text/plain": [
       "A0     0\n",
       "A1     1\n",
       "A2     4\n",
       "A3     7\n",
       "      ..\n",
       "A7     7\n",
       "A8     9\n",
       "A9     7\n",
       "A10    2\n",
       "Length: 11, dtype: int64"
      ]
     },
     "execution_count": 27,
     "metadata": {},
     "output_type": "execute_result"
    }
   ],
   "source": [
    "series_gen2"
   ]
  },
  {
   "cell_type": "code",
   "execution_count": null,
   "metadata": {},
   "outputs": [],
   "source": []
  },
  {
   "cell_type": "code",
   "execution_count": 29,
   "metadata": {},
   "outputs": [],
   "source": [
    "## generate series of dates\n",
    "# dates = pd.date_range('2016-04-01', '2016-04-06')\n",
    "dates = pd.date_range('2016-04-01', periods=11,freq='D')\n",
    "\n",
    "series_gen3 = pd.Series(A, index = dates)"
   ]
  },
  {
   "cell_type": "code",
   "execution_count": 30,
   "metadata": {},
   "outputs": [
    {
     "data": {
      "text/plain": [
       "2016-04-01    0\n",
       "2016-04-02    1\n",
       "2016-04-03    4\n",
       "2016-04-04    7\n",
       "             ..\n",
       "2016-04-08    7\n",
       "2016-04-09    9\n",
       "2016-04-10    7\n",
       "2016-04-11    2\n",
       "Freq: D, Length: 11, dtype: int64"
      ]
     },
     "execution_count": 30,
     "metadata": {},
     "output_type": "execute_result"
    }
   ],
   "source": [
    "series_gen3"
   ]
  },
  {
   "cell_type": "code",
   "execution_count": 31,
   "metadata": {},
   "outputs": [
    {
     "data": {
      "text/plain": [
       "array([0, 1, 4, 7, 1, 2, 5, 7, 9, 7, 2], dtype=int64)"
      ]
     },
     "execution_count": 31,
     "metadata": {},
     "output_type": "execute_result"
    }
   ],
   "source": [
    "## Reverse\n",
    "series_gen3.values"
   ]
  },
  {
   "cell_type": "code",
   "execution_count": null,
   "metadata": {},
   "outputs": [],
   "source": []
  },
  {
   "cell_type": "code",
   "execution_count": null,
   "metadata": {},
   "outputs": [],
   "source": []
  },
  {
   "cell_type": "code",
   "execution_count": 32,
   "metadata": {},
   "outputs": [],
   "source": [
    "## Notes"
   ]
  },
  {
   "cell_type": "code",
   "execution_count": 33,
   "metadata": {},
   "outputs": [
    {
     "data": {
      "text/plain": [
       "pandas.core.series.Series"
      ]
     },
     "execution_count": 33,
     "metadata": {},
     "output_type": "execute_result"
    }
   ],
   "source": [
    "type(data_gen['A1'])"
   ]
  },
  {
   "cell_type": "code",
   "execution_count": 34,
   "metadata": {},
   "outputs": [
    {
     "data": {
      "text/plain": [
       "pandas.core.frame.DataFrame"
      ]
     },
     "execution_count": 34,
     "metadata": {},
     "output_type": "execute_result"
    }
   ],
   "source": [
    "type(data_gen[['A1']])"
   ]
  },
  {
   "cell_type": "code",
   "execution_count": null,
   "metadata": {},
   "outputs": [],
   "source": []
  }
 ],
 "metadata": {
  "kernelspec": {
   "display_name": "Python 3",
   "language": "python",
   "name": "python3"
  },
  "language_info": {
   "codemirror_mode": {
    "name": "ipython",
    "version": 3
   },
   "file_extension": ".py",
   "mimetype": "text/x-python",
   "name": "python",
   "nbconvert_exporter": "python",
   "pygments_lexer": "ipython3",
   "version": "3.8.8"
  }
 },
 "nbformat": 4,
 "nbformat_minor": 4
}
