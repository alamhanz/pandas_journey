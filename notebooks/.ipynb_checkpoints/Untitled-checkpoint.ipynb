{
 "cells": [
  {
   "cell_type": "code",
   "execution_count": 1,
   "id": "3755f866-f3e7-4bca-b03b-2613d48107ca",
   "metadata": {},
   "outputs": [],
   "source": [
    "A = [1,2,3,4,5,6,7,1,2,3,4,5,6,7]"
   ]
  },
  {
   "cell_type": "code",
   "execution_count": 2,
   "id": "2d6ea197-afe2-4e96-a8ed-8a9272175146",
   "metadata": {},
   "outputs": [],
   "source": [
    "import pandas as pd"
   ]
  },
  {
   "cell_type": "code",
   "execution_count": 3,
   "id": "5b0bc2e0-ef35-401f-981e-5eb37ba83628",
   "metadata": {},
   "outputs": [],
   "source": [
    "A_ser = pd.Series(A)"
   ]
  },
  {
   "cell_type": "code",
   "execution_count": 5,
   "id": "19f6a46e-6de9-4769-b93f-fd7acdc8db53",
   "metadata": {},
   "outputs": [
    {
     "data": {
      "text/plain": [
       "True"
      ]
     },
     "execution_count": 5,
     "metadata": {},
     "output_type": "execute_result"
    }
   ],
   "source": [
    "(A_ser>6).any()"
   ]
  },
  {
   "cell_type": "code",
   "execution_count": 10,
   "id": "abf1ebb4-57ce-43bf-8126-2bf1ab6ea4cd",
   "metadata": {},
   "outputs": [
    {
     "data": {
      "text/plain": [
       "True"
      ]
     },
     "execution_count": 10,
     "metadata": {},
     "output_type": "execute_result"
    }
   ],
   "source": [
    "(A_ser>0).all()"
   ]
  },
  {
   "cell_type": "code",
   "execution_count": null,
   "id": "c2482276-bdb1-4a97-99f1-41b3ac895834",
   "metadata": {},
   "outputs": [],
   "source": [
    "DATABASE\n",
    "\n",
    "Analyst mau pake data (1 bulan terakhir) --> SQL (data dari database)\n",
    "\n",
    "Analyst punya data voting -- gk ada di database --> analysis"
   ]
  },
  {
   "cell_type": "code",
   "execution_count": null,
   "id": "e2397010-69a9-4499-b787-5b50cd2369c6",
   "metadata": {},
   "outputs": [],
   "source": []
  },
  {
   "cell_type": "code",
   "execution_count": 11,
   "id": "7e004195-ae3e-4ce1-bc05-07bc0d6c7be1",
   "metadata": {},
   "outputs": [],
   "source": [
    "A = [1,2,3,1,2,3,1,2,3,100]"
   ]
  },
  {
   "cell_type": "code",
   "execution_count": 12,
   "id": "e5a3bf3d-ad27-4454-8659-3ced33a6d7fa",
   "metadata": {},
   "outputs": [
    {
     "data": {
      "text/plain": [
       "11.8"
      ]
     },
     "execution_count": 12,
     "metadata": {},
     "output_type": "execute_result"
    }
   ],
   "source": [
    "sum(A)/len(A)"
   ]
  },
  {
   "cell_type": "code",
   "execution_count": null,
   "id": "13b926e9-6e36-45c4-9cfd-3f8d5da7d84a",
   "metadata": {},
   "outputs": [],
   "source": []
  }
 ],
 "metadata": {
  "kernelspec": {
   "display_name": "Python 3",
   "language": "python",
   "name": "python3"
  },
  "language_info": {
   "codemirror_mode": {
    "name": "ipython",
    "version": 3
   },
   "file_extension": ".py",
   "mimetype": "text/x-python",
   "name": "python",
   "nbconvert_exporter": "python",
   "pygments_lexer": "ipython3",
   "version": "3.8.8"
  }
 },
 "nbformat": 4,
 "nbformat_minor": 5
}
