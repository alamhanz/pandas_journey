{
 "cells": [
  {
   "cell_type": "markdown",
   "metadata": {},
   "source": [
    "# 3. The Basics"
   ]
  },
  {
   "cell_type": "code",
   "execution_count": 1,
   "metadata": {},
   "outputs": [],
   "source": [
    "import pandas as pd"
   ]
  },
  {
   "cell_type": "code",
   "execution_count": 2,
   "metadata": {},
   "outputs": [],
   "source": [
    "PATH_DATA = '../mydata/'"
   ]
  },
  {
   "cell_type": "markdown",
   "metadata": {},
   "source": [
    "## Get data"
   ]
  },
  {
   "cell_type": "code",
   "execution_count": 3,
   "metadata": {},
   "outputs": [],
   "source": [
    "df_csv = pd.read_csv(PATH_DATA+'omh_data.csv')"
   ]
  },
  {
   "cell_type": "code",
   "execution_count": 4,
   "metadata": {},
   "outputs": [
    {
     "data": {
      "text/html": [
       "<div>\n",
       "<style scoped>\n",
       "    .dataframe tbody tr th:only-of-type {\n",
       "        vertical-align: middle;\n",
       "    }\n",
       "\n",
       "    .dataframe tbody tr th {\n",
       "        vertical-align: top;\n",
       "    }\n",
       "\n",
       "    .dataframe thead th {\n",
       "        text-align: right;\n",
       "    }\n",
       "</style>\n",
       "<table border=\"1\" class=\"dataframe\">\n",
       "  <thead>\n",
       "    <tr style=\"text-align: right;\">\n",
       "      <th></th>\n",
       "      <th>Date</th>\n",
       "      <th>MSFT</th>\n",
       "      <th>AAPL</th>\n",
       "    </tr>\n",
       "  </thead>\n",
       "  <tbody>\n",
       "    <tr>\n",
       "      <th>0</th>\n",
       "      <td>2014-12-01</td>\n",
       "      <td>48.62</td>\n",
       "      <td>115.07</td>\n",
       "    </tr>\n",
       "    <tr>\n",
       "      <th>1</th>\n",
       "      <td>2014-12-02</td>\n",
       "      <td>48.46</td>\n",
       "      <td>114.63</td>\n",
       "    </tr>\n",
       "    <tr>\n",
       "      <th>2</th>\n",
       "      <td>2014-12-03</td>\n",
       "      <td>48.08</td>\n",
       "      <td>115.93</td>\n",
       "    </tr>\n",
       "    <tr>\n",
       "      <th>3</th>\n",
       "      <td>2014-12-04</td>\n",
       "      <td>48.84</td>\n",
       "      <td>115.49</td>\n",
       "    </tr>\n",
       "    <tr>\n",
       "      <th>4</th>\n",
       "      <td>2014-12-05</td>\n",
       "      <td>48.42</td>\n",
       "      <td>115.00</td>\n",
       "    </tr>\n",
       "  </tbody>\n",
       "</table>\n",
       "</div>"
      ],
      "text/plain": [
       "         Date   MSFT    AAPL\n",
       "0  2014-12-01  48.62  115.07\n",
       "1  2014-12-02  48.46  114.63\n",
       "2  2014-12-03  48.08  115.93\n",
       "3  2014-12-04  48.84  115.49\n",
       "4  2014-12-05  48.42  115.00"
      ]
     },
     "execution_count": 4,
     "metadata": {},
     "output_type": "execute_result"
    }
   ],
   "source": [
    "df_csv.head()\n",
    "# df_csv.head(10)\n"
   ]
  },
  {
   "cell_type": "code",
   "execution_count": 5,
   "metadata": {},
   "outputs": [
    {
     "data": {
      "text/html": [
       "<div>\n",
       "<style scoped>\n",
       "    .dataframe tbody tr th:only-of-type {\n",
       "        vertical-align: middle;\n",
       "    }\n",
       "\n",
       "    .dataframe tbody tr th {\n",
       "        vertical-align: top;\n",
       "    }\n",
       "\n",
       "    .dataframe thead th {\n",
       "        text-align: right;\n",
       "    }\n",
       "</style>\n",
       "<table border=\"1\" class=\"dataframe\">\n",
       "  <thead>\n",
       "    <tr style=\"text-align: right;\">\n",
       "      <th></th>\n",
       "      <th>Date</th>\n",
       "      <th>MSFT</th>\n",
       "      <th>AAPL</th>\n",
       "    </tr>\n",
       "  </thead>\n",
       "  <tbody>\n",
       "    <tr>\n",
       "      <th>17</th>\n",
       "      <td>2014-12-24</td>\n",
       "      <td>48.14</td>\n",
       "      <td>112.01</td>\n",
       "    </tr>\n",
       "    <tr>\n",
       "      <th>18</th>\n",
       "      <td>2014-12-26</td>\n",
       "      <td>47.88</td>\n",
       "      <td>113.99</td>\n",
       "    </tr>\n",
       "    <tr>\n",
       "      <th>19</th>\n",
       "      <td>2014-12-29</td>\n",
       "      <td>47.45</td>\n",
       "      <td>113.91</td>\n",
       "    </tr>\n",
       "    <tr>\n",
       "      <th>20</th>\n",
       "      <td>2014-12-30</td>\n",
       "      <td>47.02</td>\n",
       "      <td>112.52</td>\n",
       "    </tr>\n",
       "    <tr>\n",
       "      <th>21</th>\n",
       "      <td>2014-12-31</td>\n",
       "      <td>46.45</td>\n",
       "      <td>110.38</td>\n",
       "    </tr>\n",
       "  </tbody>\n",
       "</table>\n",
       "</div>"
      ],
      "text/plain": [
       "          Date   MSFT    AAPL\n",
       "17  2014-12-24  48.14  112.01\n",
       "18  2014-12-26  47.88  113.99\n",
       "19  2014-12-29  47.45  113.91\n",
       "20  2014-12-30  47.02  112.52\n",
       "21  2014-12-31  46.45  110.38"
      ]
     },
     "execution_count": 5,
     "metadata": {},
     "output_type": "execute_result"
    }
   ],
   "source": [
    "df_csv.tail()\n",
    "# df_csv.tail(10)\n"
   ]
  },
  {
   "cell_type": "code",
   "execution_count": 6,
   "metadata": {},
   "outputs": [
    {
     "data": {
      "text/plain": [
       "(22, 3)"
      ]
     },
     "execution_count": 6,
     "metadata": {},
     "output_type": "execute_result"
    }
   ],
   "source": [
    "df_csv.shape"
   ]
  },
  {
   "cell_type": "code",
   "execution_count": null,
   "metadata": {},
   "outputs": [],
   "source": []
  },
  {
   "cell_type": "markdown",
   "metadata": {},
   "source": [
    "## Basics in Series"
   ]
  },
  {
   "cell_type": "markdown",
   "metadata": {},
   "source": [
    "### Selecting 1"
   ]
  },
  {
   "cell_type": "code",
   "execution_count": 7,
   "metadata": {},
   "outputs": [],
   "source": [
    "series1 = df_csv['MSFT']"
   ]
  },
  {
   "cell_type": "code",
   "execution_count": 8,
   "metadata": {},
   "outputs": [
    {
     "data": {
      "text/plain": [
       "48.84"
      ]
     },
     "execution_count": 8,
     "metadata": {},
     "output_type": "execute_result"
    }
   ],
   "source": [
    "series1[3]"
   ]
  },
  {
   "cell_type": "code",
   "execution_count": 9,
   "metadata": {},
   "outputs": [
    {
     "data": {
      "text/plain": [
       "0    48.62\n",
       "1    48.46\n",
       "2    48.08\n",
       "Name: MSFT, dtype: float64"
      ]
     },
     "execution_count": 9,
     "metadata": {},
     "output_type": "execute_result"
    }
   ],
   "source": [
    "series1[:3]"
   ]
  },
  {
   "cell_type": "code",
   "execution_count": 10,
   "metadata": {},
   "outputs": [
    {
     "data": {
      "text/plain": [
       "18    47.88\n",
       "19    47.45\n",
       "20    47.02\n",
       "21    46.45\n",
       "Name: MSFT, dtype: float64"
      ]
     },
     "execution_count": 10,
     "metadata": {},
     "output_type": "execute_result"
    }
   ],
   "source": [
    "series1[18:]"
   ]
  },
  {
   "cell_type": "code",
   "execution_count": 11,
   "metadata": {},
   "outputs": [
    {
     "data": {
      "text/plain": [
       "3    48.84\n",
       "4    48.42\n",
       "5    47.70\n",
       "6    47.59\n",
       "7    46.90\n",
       "8    47.17\n",
       "9    46.95\n",
       "Name: MSFT, dtype: float64"
      ]
     },
     "execution_count": 11,
     "metadata": {},
     "output_type": "execute_result"
    }
   ],
   "source": [
    "series1[3:10]"
   ]
  },
  {
   "cell_type": "code",
   "execution_count": 12,
   "metadata": {},
   "outputs": [
    {
     "data": {
      "text/plain": [
       "3    48.84\n",
       "5    47.70\n",
       "7    46.90\n",
       "9    46.95\n",
       "Name: MSFT, dtype: float64"
      ]
     },
     "execution_count": 12,
     "metadata": {},
     "output_type": "execute_result"
    }
   ],
   "source": [
    "series1[3:10:2]"
   ]
  },
  {
   "cell_type": "code",
   "execution_count": null,
   "metadata": {},
   "outputs": [],
   "source": []
  },
  {
   "cell_type": "markdown",
   "metadata": {},
   "source": [
    "### Selecting 2"
   ]
  },
  {
   "cell_type": "code",
   "execution_count": 13,
   "metadata": {},
   "outputs": [],
   "source": [
    "series2 = series1.copy()\n",
    "\n",
    "new_index = ['T'+str(i+2) for i in range(len(series2))]\n",
    "series2.index = new_index ## --> reindexing the series"
   ]
  },
  {
   "cell_type": "code",
   "execution_count": 14,
   "metadata": {},
   "outputs": [
    {
     "data": {
      "text/plain": [
       "T2     48.62\n",
       "T3     48.46\n",
       "T4     48.08\n",
       "T5     48.84\n",
       "T6     48.42\n",
       "T7     47.70\n",
       "T8     47.59\n",
       "T9     46.90\n",
       "T10    47.17\n",
       "T11    46.95\n",
       "T12    46.67\n",
       "T13    45.16\n",
       "T14    45.74\n",
       "T15    47.52\n",
       "T16    47.66\n",
       "T17    47.98\n",
       "T18    48.45\n",
       "T19    48.14\n",
       "T20    47.88\n",
       "T21    47.45\n",
       "T22    47.02\n",
       "T23    46.45\n",
       "Name: MSFT, dtype: float64"
      ]
     },
     "execution_count": 14,
     "metadata": {},
     "output_type": "execute_result"
    }
   ],
   "source": [
    "series2"
   ]
  },
  {
   "cell_type": "code",
   "execution_count": 15,
   "metadata": {},
   "outputs": [
    {
     "data": {
      "text/plain": [
       "48.84"
      ]
     },
     "execution_count": 15,
     "metadata": {},
     "output_type": "execute_result"
    }
   ],
   "source": [
    "# series2.iloc[3]\n",
    "series2[3]"
   ]
  },
  {
   "cell_type": "code",
   "execution_count": 16,
   "metadata": {},
   "outputs": [
    {
     "data": {
      "text/plain": [
       "48.84"
      ]
     },
     "execution_count": 16,
     "metadata": {},
     "output_type": "execute_result"
    }
   ],
   "source": [
    "# series2.loc['T5']\n",
    "series2['T5']"
   ]
  },
  {
   "cell_type": "code",
   "execution_count": null,
   "metadata": {},
   "outputs": [],
   "source": []
  },
  {
   "cell_type": "markdown",
   "metadata": {},
   "source": [
    "### Selecting 3 - Boolean"
   ]
  },
  {
   "cell_type": "code",
   "execution_count": 17,
   "metadata": {},
   "outputs": [
    {
     "data": {
      "text/plain": [
       "T2     48.62\n",
       "T3     48.46\n",
       "T4     48.08\n",
       "T5     48.84\n",
       "T6     48.42\n",
       "T7     47.70\n",
       "T8     47.59\n",
       "T9     46.90\n",
       "T10    47.17\n",
       "T11    46.95\n",
       "T12    46.67\n",
       "T13    45.16\n",
       "T14    45.74\n",
       "T15    47.52\n",
       "T16    47.66\n",
       "T17    47.98\n",
       "T18    48.45\n",
       "T19    48.14\n",
       "T20    47.88\n",
       "T21    47.45\n",
       "T22    47.02\n",
       "T23    46.45\n",
       "Name: MSFT, dtype: float64"
      ]
     },
     "execution_count": 17,
     "metadata": {},
     "output_type": "execute_result"
    }
   ],
   "source": [
    "series2"
   ]
  },
  {
   "cell_type": "code",
   "execution_count": 18,
   "metadata": {},
   "outputs": [
    {
     "data": {
      "text/plain": [
       "T2     False\n",
       "T3     False\n",
       "T4     False\n",
       "T5     False\n",
       "T6     False\n",
       "T7     False\n",
       "T8     False\n",
       "T9     False\n",
       "T10    False\n",
       "T11    False\n",
       "T12    False\n",
       "T13     True\n",
       "T14     True\n",
       "T15    False\n",
       "T16    False\n",
       "T17    False\n",
       "T18    False\n",
       "T19    False\n",
       "T20    False\n",
       "T21    False\n",
       "T22    False\n",
       "T23    False\n",
       "Name: MSFT, dtype: bool"
      ]
     },
     "execution_count": 18,
     "metadata": {},
     "output_type": "execute_result"
    }
   ],
   "source": [
    "series2<46"
   ]
  },
  {
   "cell_type": "code",
   "execution_count": 19,
   "metadata": {},
   "outputs": [
    {
     "data": {
      "text/plain": [
       "T13    45.16\n",
       "T14    45.74\n",
       "Name: MSFT, dtype: float64"
      ]
     },
     "execution_count": 19,
     "metadata": {},
     "output_type": "execute_result"
    }
   ],
   "source": [
    "series2[series2<46]"
   ]
  },
  {
   "cell_type": "code",
   "execution_count": 20,
   "metadata": {},
   "outputs": [
    {
     "data": {
      "text/plain": [
       "T7     47.70\n",
       "T8     47.59\n",
       "T9     46.90\n",
       "T10    47.17\n",
       "T11    46.95\n",
       "T12    46.67\n",
       "T15    47.52\n",
       "T16    47.66\n",
       "T17    47.98\n",
       "T20    47.88\n",
       "T21    47.45\n",
       "T22    47.02\n",
       "T23    46.45\n",
       "Name: MSFT, dtype: float64"
      ]
     },
     "execution_count": 20,
     "metadata": {},
     "output_type": "execute_result"
    }
   ],
   "source": [
    "series2[(series2>46)&(series2<48)]"
   ]
  },
  {
   "cell_type": "code",
   "execution_count": null,
   "metadata": {},
   "outputs": [],
   "source": []
  },
  {
   "cell_type": "code",
   "execution_count": 21,
   "metadata": {},
   "outputs": [
    {
     "data": {
      "text/plain": [
       "False"
      ]
     },
     "execution_count": 21,
     "metadata": {},
     "output_type": "execute_result"
    }
   ],
   "source": [
    "## all of series less than 47?\n",
    "(series2<47).all()"
   ]
  },
  {
   "cell_type": "code",
   "execution_count": 22,
   "metadata": {},
   "outputs": [
    {
     "data": {
      "text/plain": [
       "True"
      ]
     },
     "execution_count": 22,
     "metadata": {},
     "output_type": "execute_result"
    }
   ],
   "source": [
    "## any of series less than 47?\n",
    "(series2<47).any()"
   ]
  },
  {
   "cell_type": "code",
   "execution_count": null,
   "metadata": {},
   "outputs": [],
   "source": []
  },
  {
   "cell_type": "code",
   "execution_count": null,
   "metadata": {},
   "outputs": [],
   "source": []
  },
  {
   "cell_type": "code",
   "execution_count": null,
   "metadata": {},
   "outputs": [],
   "source": []
  },
  {
   "cell_type": "markdown",
   "metadata": {},
   "source": [
    "### Get values and Sorting"
   ]
  },
  {
   "cell_type": "code",
   "execution_count": 23,
   "metadata": {},
   "outputs": [
    {
     "data": {
      "text/plain": [
       "Index(['T2', 'T3', 'T4', 'T5', 'T6', 'T7', 'T8', 'T9', 'T10', 'T11', 'T12',\n",
       "       'T13', 'T14', 'T15', 'T16', 'T17', 'T18', 'T19', 'T20', 'T21', 'T22',\n",
       "       'T23'],\n",
       "      dtype='object')"
      ]
     },
     "execution_count": 23,
     "metadata": {},
     "output_type": "execute_result"
    }
   ],
   "source": [
    "series2.index"
   ]
  },
  {
   "cell_type": "code",
   "execution_count": 24,
   "metadata": {},
   "outputs": [
    {
     "data": {
      "text/plain": [
       "array([48.62, 48.46, 48.08, 48.84, 48.42, 47.7 , 47.59, 46.9 , 47.17,\n",
       "       46.95, 46.67, 45.16, 45.74, 47.52, 47.66, 47.98, 48.45, 48.14,\n",
       "       47.88, 47.45, 47.02, 46.45])"
      ]
     },
     "execution_count": 24,
     "metadata": {},
     "output_type": "execute_result"
    }
   ],
   "source": [
    "series2.values"
   ]
  },
  {
   "cell_type": "code",
   "execution_count": 25,
   "metadata": {},
   "outputs": [
    {
     "data": {
      "text/plain": [
       "T13    45.16\n",
       "T14    45.74\n",
       "T23    46.45\n",
       "T12    46.67\n",
       "T9     46.90\n",
       "T11    46.95\n",
       "T22    47.02\n",
       "T10    47.17\n",
       "T21    47.45\n",
       "T15    47.52\n",
       "T8     47.59\n",
       "T16    47.66\n",
       "T7     47.70\n",
       "T20    47.88\n",
       "T17    47.98\n",
       "T4     48.08\n",
       "T19    48.14\n",
       "T6     48.42\n",
       "T18    48.45\n",
       "T3     48.46\n",
       "T2     48.62\n",
       "T5     48.84\n",
       "Name: MSFT, dtype: float64"
      ]
     },
     "execution_count": 25,
     "metadata": {},
     "output_type": "execute_result"
    }
   ],
   "source": [
    "series2.sort_values()"
   ]
  },
  {
   "cell_type": "code",
   "execution_count": null,
   "metadata": {},
   "outputs": [],
   "source": []
  },
  {
   "cell_type": "markdown",
   "metadata": {},
   "source": [
    "### Get Description"
   ]
  },
  {
   "cell_type": "code",
   "execution_count": 26,
   "metadata": {},
   "outputs": [
    {
     "data": {
      "text/plain": [
       "1044.8500000000001"
      ]
     },
     "execution_count": 26,
     "metadata": {},
     "output_type": "execute_result"
    }
   ],
   "source": [
    "series2.sum()"
   ]
  },
  {
   "cell_type": "code",
   "execution_count": 27,
   "metadata": {},
   "outputs": [
    {
     "data": {
      "text/plain": [
       "47.493181818181824"
      ]
     },
     "execution_count": 27,
     "metadata": {},
     "output_type": "execute_result"
    }
   ],
   "source": [
    "series2.mean()"
   ]
  },
  {
   "cell_type": "code",
   "execution_count": 28,
   "metadata": {},
   "outputs": [
    {
     "data": {
      "text/plain": [
       "0.9330767659106357"
      ]
     },
     "execution_count": 28,
     "metadata": {},
     "output_type": "execute_result"
    }
   ],
   "source": [
    "series2.std()"
   ]
  },
  {
   "cell_type": "code",
   "execution_count": 29,
   "metadata": {},
   "outputs": [
    {
     "data": {
      "text/plain": [
       "47.625"
      ]
     },
     "execution_count": 29,
     "metadata": {},
     "output_type": "execute_result"
    }
   ],
   "source": [
    "series2.median()"
   ]
  },
  {
   "cell_type": "code",
   "execution_count": 30,
   "metadata": {},
   "outputs": [
    {
     "data": {
      "text/plain": [
       "47.625"
      ]
     },
     "execution_count": 30,
     "metadata": {},
     "output_type": "execute_result"
    }
   ],
   "source": [
    "series2.quantile(0.5) ## --> P50"
   ]
  },
  {
   "cell_type": "code",
   "execution_count": 31,
   "metadata": {},
   "outputs": [
    {
     "data": {
      "text/plain": [
       "48.125"
      ]
     },
     "execution_count": 31,
     "metadata": {},
     "output_type": "execute_result"
    }
   ],
   "source": [
    "series2.quantile(0.75) ## --> P75"
   ]
  },
  {
   "cell_type": "code",
   "execution_count": 32,
   "metadata": {},
   "outputs": [
    {
     "data": {
      "text/plain": [
       "48.793800000000005"
      ]
     },
     "execution_count": 32,
     "metadata": {},
     "output_type": "execute_result"
    }
   ],
   "source": [
    "series2.quantile(0.99) ## --> P99"
   ]
  },
  {
   "cell_type": "code",
   "execution_count": 33,
   "metadata": {},
   "outputs": [
    {
     "data": {
      "text/plain": [
       "48.84"
      ]
     },
     "execution_count": 33,
     "metadata": {},
     "output_type": "execute_result"
    }
   ],
   "source": [
    "series2.max()"
   ]
  },
  {
   "cell_type": "code",
   "execution_count": 34,
   "metadata": {},
   "outputs": [
    {
     "data": {
      "text/plain": [
       "45.16"
      ]
     },
     "execution_count": 34,
     "metadata": {},
     "output_type": "execute_result"
    }
   ],
   "source": [
    "series2.min()"
   ]
  },
  {
   "cell_type": "code",
   "execution_count": 35,
   "metadata": {},
   "outputs": [
    {
     "data": {
      "text/plain": [
       "T2       48.62\n",
       "T3       97.08\n",
       "T4      145.16\n",
       "T5      194.00\n",
       "T6      242.42\n",
       "T7      290.12\n",
       "T8      337.71\n",
       "T9      384.61\n",
       "T10     431.78\n",
       "T11     478.73\n",
       "T12     525.40\n",
       "T13     570.56\n",
       "T14     616.30\n",
       "T15     663.82\n",
       "T16     711.48\n",
       "T17     759.46\n",
       "T18     807.91\n",
       "T19     856.05\n",
       "T20     903.93\n",
       "T21     951.38\n",
       "T22     998.40\n",
       "T23    1044.85\n",
       "Name: MSFT, dtype: float64"
      ]
     },
     "execution_count": 35,
     "metadata": {},
     "output_type": "execute_result"
    }
   ],
   "source": [
    "series2.cumsum()"
   ]
  },
  {
   "cell_type": "code",
   "execution_count": null,
   "metadata": {},
   "outputs": [],
   "source": []
  },
  {
   "cell_type": "markdown",
   "metadata": {},
   "source": [
    "### Modify Series"
   ]
  },
  {
   "cell_type": "code",
   "execution_count": 36,
   "metadata": {},
   "outputs": [
    {
     "data": {
      "text/plain": [
       "T2     48.62\n",
       "T3     48.46\n",
       "T4     48.08\n",
       "T5     48.84\n",
       "T6     48.42\n",
       "T7     47.70\n",
       "T8     47.59\n",
       "T9     46.90\n",
       "T10    47.17\n",
       "T11    46.95\n",
       "T12    46.67\n",
       "T13    45.16\n",
       "T14    45.74\n",
       "T15    47.52\n",
       "T16    47.66\n",
       "T17    47.98\n",
       "T18    48.45\n",
       "T19    48.14\n",
       "T20    47.88\n",
       "T21    47.45\n",
       "T22    47.02\n",
       "T23    46.45\n",
       "Name: MSFT, dtype: float64"
      ]
     },
     "execution_count": 36,
     "metadata": {},
     "output_type": "execute_result"
    }
   ],
   "source": [
    "series2"
   ]
  },
  {
   "cell_type": "code",
   "execution_count": 37,
   "metadata": {},
   "outputs": [],
   "source": [
    "series2['T10'] = 49"
   ]
  },
  {
   "cell_type": "code",
   "execution_count": 38,
   "metadata": {},
   "outputs": [
    {
     "data": {
      "text/plain": [
       "T2     48.62\n",
       "T3     48.46\n",
       "T4     48.08\n",
       "T5     48.84\n",
       "T6     48.42\n",
       "T7     47.70\n",
       "T8     47.59\n",
       "T9     46.90\n",
       "T10    49.00\n",
       "T11    46.95\n",
       "T12    46.67\n",
       "T13    45.16\n",
       "T14    45.74\n",
       "T15    47.52\n",
       "T16    47.66\n",
       "T17    47.98\n",
       "T18    48.45\n",
       "T19    48.14\n",
       "T20    47.88\n",
       "T21    47.45\n",
       "T22    47.02\n",
       "T23    46.45\n",
       "Name: MSFT, dtype: float64"
      ]
     },
     "execution_count": 38,
     "metadata": {},
     "output_type": "execute_result"
    }
   ],
   "source": [
    "series2"
   ]
  },
  {
   "cell_type": "code",
   "execution_count": null,
   "metadata": {},
   "outputs": [],
   "source": []
  },
  {
   "cell_type": "code",
   "execution_count": null,
   "metadata": {},
   "outputs": [],
   "source": []
  },
  {
   "cell_type": "markdown",
   "metadata": {},
   "source": [
    "### Operational Series\n",
    "\n",
    "Index must Align"
   ]
  },
  {
   "cell_type": "code",
   "execution_count": 39,
   "metadata": {},
   "outputs": [],
   "source": [
    "series3 = series2.copy()"
   ]
  },
  {
   "cell_type": "code",
   "execution_count": 40,
   "metadata": {},
   "outputs": [],
   "source": [
    "# series3 / 10\n",
    "# series3 + 10\n",
    "# series3 - 10\n",
    "# series3 * 10\n",
    "\n",
    "series3 = series3 / 10"
   ]
  },
  {
   "cell_type": "code",
   "execution_count": 41,
   "metadata": {},
   "outputs": [
    {
     "data": {
      "text/plain": [
       "T2     53.482\n",
       "T3     53.306\n",
       "T4     52.888\n",
       "T5     53.724\n",
       "T6     53.262\n",
       "T7     52.470\n",
       "T8     52.349\n",
       "T9     51.590\n",
       "T10    53.900\n",
       "T11    51.645\n",
       "T12    51.337\n",
       "T13    49.676\n",
       "T14    50.314\n",
       "T15    52.272\n",
       "T16    52.426\n",
       "T17    52.778\n",
       "T18    53.295\n",
       "T19    52.954\n",
       "T20    52.668\n",
       "T21    52.195\n",
       "T22    51.722\n",
       "T23    51.095\n",
       "Name: MSFT, dtype: float64"
      ]
     },
     "execution_count": 41,
     "metadata": {},
     "output_type": "execute_result"
    }
   ],
   "source": [
    "series4 = series2 + series3\n",
    "series4"
   ]
  },
  {
   "cell_type": "code",
   "execution_count": 42,
   "metadata": {},
   "outputs": [
    {
     "data": {
      "text/plain": [
       "T2     43.758\n",
       "T3     43.614\n",
       "T4     43.272\n",
       "T5     43.956\n",
       "T6     43.578\n",
       "T7     42.930\n",
       "T8     42.831\n",
       "T9     42.210\n",
       "T10    44.100\n",
       "T11    42.255\n",
       "T12    42.003\n",
       "T13    40.644\n",
       "T14    41.166\n",
       "T15    42.768\n",
       "T16    42.894\n",
       "T17    43.182\n",
       "T18    43.605\n",
       "T19    43.326\n",
       "T20    43.092\n",
       "T21    42.705\n",
       "T22    42.318\n",
       "T23    41.805\n",
       "Name: MSFT, dtype: float64"
      ]
     },
     "execution_count": 42,
     "metadata": {},
     "output_type": "execute_result"
    }
   ],
   "source": [
    "series5 = series2 - series3\n",
    "series5"
   ]
  },
  {
   "cell_type": "code",
   "execution_count": 43,
   "metadata": {},
   "outputs": [],
   "source": [
    "## Let say create a DataFrame from those Series\n",
    "data_row = pd.DataFrame([series4,\n",
    "              series3,\n",
    "              series5], index = ['Lbound','Mbound','Ubound'])\n",
    "\n",
    "data_column = pd.DataFrame({'Lbound': series4,\n",
    "                            'Mbound': series3,\n",
    "                            'Ubound': series5})\n",
    "\n"
   ]
  },
  {
   "cell_type": "code",
   "execution_count": 44,
   "metadata": {},
   "outputs": [
    {
     "data": {
      "text/html": [
       "<div>\n",
       "<style scoped>\n",
       "    .dataframe tbody tr th:only-of-type {\n",
       "        vertical-align: middle;\n",
       "    }\n",
       "\n",
       "    .dataframe tbody tr th {\n",
       "        vertical-align: top;\n",
       "    }\n",
       "\n",
       "    .dataframe thead th {\n",
       "        text-align: right;\n",
       "    }\n",
       "</style>\n",
       "<table border=\"1\" class=\"dataframe\">\n",
       "  <thead>\n",
       "    <tr style=\"text-align: right;\">\n",
       "      <th></th>\n",
       "      <th>T2</th>\n",
       "      <th>T3</th>\n",
       "      <th>T4</th>\n",
       "      <th>T5</th>\n",
       "      <th>T6</th>\n",
       "      <th>T7</th>\n",
       "      <th>T8</th>\n",
       "      <th>T9</th>\n",
       "      <th>T10</th>\n",
       "      <th>T11</th>\n",
       "      <th>...</th>\n",
       "      <th>T14</th>\n",
       "      <th>T15</th>\n",
       "      <th>T16</th>\n",
       "      <th>T17</th>\n",
       "      <th>T18</th>\n",
       "      <th>T19</th>\n",
       "      <th>T20</th>\n",
       "      <th>T21</th>\n",
       "      <th>T22</th>\n",
       "      <th>T23</th>\n",
       "    </tr>\n",
       "  </thead>\n",
       "  <tbody>\n",
       "    <tr>\n",
       "      <th>Lbound</th>\n",
       "      <td>53.482</td>\n",
       "      <td>53.306</td>\n",
       "      <td>52.888</td>\n",
       "      <td>53.724</td>\n",
       "      <td>53.262</td>\n",
       "      <td>52.47</td>\n",
       "      <td>52.349</td>\n",
       "      <td>51.59</td>\n",
       "      <td>53.9</td>\n",
       "      <td>51.645</td>\n",
       "      <td>...</td>\n",
       "      <td>50.314</td>\n",
       "      <td>52.272</td>\n",
       "      <td>52.426</td>\n",
       "      <td>52.778</td>\n",
       "      <td>53.295</td>\n",
       "      <td>52.954</td>\n",
       "      <td>52.668</td>\n",
       "      <td>52.195</td>\n",
       "      <td>51.722</td>\n",
       "      <td>51.095</td>\n",
       "    </tr>\n",
       "    <tr>\n",
       "      <th>Mbound</th>\n",
       "      <td>4.862</td>\n",
       "      <td>4.846</td>\n",
       "      <td>4.808</td>\n",
       "      <td>4.884</td>\n",
       "      <td>4.842</td>\n",
       "      <td>4.77</td>\n",
       "      <td>4.759</td>\n",
       "      <td>4.69</td>\n",
       "      <td>4.9</td>\n",
       "      <td>4.695</td>\n",
       "      <td>...</td>\n",
       "      <td>4.574</td>\n",
       "      <td>4.752</td>\n",
       "      <td>4.766</td>\n",
       "      <td>4.798</td>\n",
       "      <td>4.845</td>\n",
       "      <td>4.814</td>\n",
       "      <td>4.788</td>\n",
       "      <td>4.745</td>\n",
       "      <td>4.702</td>\n",
       "      <td>4.645</td>\n",
       "    </tr>\n",
       "    <tr>\n",
       "      <th>Ubound</th>\n",
       "      <td>43.758</td>\n",
       "      <td>43.614</td>\n",
       "      <td>43.272</td>\n",
       "      <td>43.956</td>\n",
       "      <td>43.578</td>\n",
       "      <td>42.93</td>\n",
       "      <td>42.831</td>\n",
       "      <td>42.21</td>\n",
       "      <td>44.1</td>\n",
       "      <td>42.255</td>\n",
       "      <td>...</td>\n",
       "      <td>41.166</td>\n",
       "      <td>42.768</td>\n",
       "      <td>42.894</td>\n",
       "      <td>43.182</td>\n",
       "      <td>43.605</td>\n",
       "      <td>43.326</td>\n",
       "      <td>43.092</td>\n",
       "      <td>42.705</td>\n",
       "      <td>42.318</td>\n",
       "      <td>41.805</td>\n",
       "    </tr>\n",
       "  </tbody>\n",
       "</table>\n",
       "<p>3 rows × 22 columns</p>\n",
       "</div>"
      ],
      "text/plain": [
       "            T2      T3      T4      T5      T6     T7      T8     T9   T10  \\\n",
       "Lbound  53.482  53.306  52.888  53.724  53.262  52.47  52.349  51.59  53.9   \n",
       "Mbound   4.862   4.846   4.808   4.884   4.842   4.77   4.759   4.69   4.9   \n",
       "Ubound  43.758  43.614  43.272  43.956  43.578  42.93  42.831  42.21  44.1   \n",
       "\n",
       "           T11  ...     T14     T15     T16     T17     T18     T19     T20  \\\n",
       "Lbound  51.645  ...  50.314  52.272  52.426  52.778  53.295  52.954  52.668   \n",
       "Mbound   4.695  ...   4.574   4.752   4.766   4.798   4.845   4.814   4.788   \n",
       "Ubound  42.255  ...  41.166  42.768  42.894  43.182  43.605  43.326  43.092   \n",
       "\n",
       "           T21     T22     T23  \n",
       "Lbound  52.195  51.722  51.095  \n",
       "Mbound   4.745   4.702   4.645  \n",
       "Ubound  42.705  42.318  41.805  \n",
       "\n",
       "[3 rows x 22 columns]"
      ]
     },
     "execution_count": 44,
     "metadata": {},
     "output_type": "execute_result"
    }
   ],
   "source": [
    "data_row"
   ]
  },
  {
   "cell_type": "code",
   "execution_count": 45,
   "metadata": {},
   "outputs": [
    {
     "data": {
      "text/html": [
       "<div>\n",
       "<style scoped>\n",
       "    .dataframe tbody tr th:only-of-type {\n",
       "        vertical-align: middle;\n",
       "    }\n",
       "\n",
       "    .dataframe tbody tr th {\n",
       "        vertical-align: top;\n",
       "    }\n",
       "\n",
       "    .dataframe thead th {\n",
       "        text-align: right;\n",
       "    }\n",
       "</style>\n",
       "<table border=\"1\" class=\"dataframe\">\n",
       "  <thead>\n",
       "    <tr style=\"text-align: right;\">\n",
       "      <th></th>\n",
       "      <th>Lbound</th>\n",
       "      <th>Mbound</th>\n",
       "      <th>Ubound</th>\n",
       "    </tr>\n",
       "  </thead>\n",
       "  <tbody>\n",
       "    <tr>\n",
       "      <th>T2</th>\n",
       "      <td>53.482</td>\n",
       "      <td>4.862</td>\n",
       "      <td>43.758</td>\n",
       "    </tr>\n",
       "    <tr>\n",
       "      <th>T3</th>\n",
       "      <td>53.306</td>\n",
       "      <td>4.846</td>\n",
       "      <td>43.614</td>\n",
       "    </tr>\n",
       "    <tr>\n",
       "      <th>T4</th>\n",
       "      <td>52.888</td>\n",
       "      <td>4.808</td>\n",
       "      <td>43.272</td>\n",
       "    </tr>\n",
       "    <tr>\n",
       "      <th>T5</th>\n",
       "      <td>53.724</td>\n",
       "      <td>4.884</td>\n",
       "      <td>43.956</td>\n",
       "    </tr>\n",
       "    <tr>\n",
       "      <th>T6</th>\n",
       "      <td>53.262</td>\n",
       "      <td>4.842</td>\n",
       "      <td>43.578</td>\n",
       "    </tr>\n",
       "    <tr>\n",
       "      <th>T7</th>\n",
       "      <td>52.470</td>\n",
       "      <td>4.770</td>\n",
       "      <td>42.930</td>\n",
       "    </tr>\n",
       "    <tr>\n",
       "      <th>T8</th>\n",
       "      <td>52.349</td>\n",
       "      <td>4.759</td>\n",
       "      <td>42.831</td>\n",
       "    </tr>\n",
       "    <tr>\n",
       "      <th>T9</th>\n",
       "      <td>51.590</td>\n",
       "      <td>4.690</td>\n",
       "      <td>42.210</td>\n",
       "    </tr>\n",
       "    <tr>\n",
       "      <th>T10</th>\n",
       "      <td>53.900</td>\n",
       "      <td>4.900</td>\n",
       "      <td>44.100</td>\n",
       "    </tr>\n",
       "    <tr>\n",
       "      <th>T11</th>\n",
       "      <td>51.645</td>\n",
       "      <td>4.695</td>\n",
       "      <td>42.255</td>\n",
       "    </tr>\n",
       "    <tr>\n",
       "      <th>T12</th>\n",
       "      <td>51.337</td>\n",
       "      <td>4.667</td>\n",
       "      <td>42.003</td>\n",
       "    </tr>\n",
       "    <tr>\n",
       "      <th>T13</th>\n",
       "      <td>49.676</td>\n",
       "      <td>4.516</td>\n",
       "      <td>40.644</td>\n",
       "    </tr>\n",
       "    <tr>\n",
       "      <th>T14</th>\n",
       "      <td>50.314</td>\n",
       "      <td>4.574</td>\n",
       "      <td>41.166</td>\n",
       "    </tr>\n",
       "    <tr>\n",
       "      <th>T15</th>\n",
       "      <td>52.272</td>\n",
       "      <td>4.752</td>\n",
       "      <td>42.768</td>\n",
       "    </tr>\n",
       "    <tr>\n",
       "      <th>T16</th>\n",
       "      <td>52.426</td>\n",
       "      <td>4.766</td>\n",
       "      <td>42.894</td>\n",
       "    </tr>\n",
       "    <tr>\n",
       "      <th>T17</th>\n",
       "      <td>52.778</td>\n",
       "      <td>4.798</td>\n",
       "      <td>43.182</td>\n",
       "    </tr>\n",
       "    <tr>\n",
       "      <th>T18</th>\n",
       "      <td>53.295</td>\n",
       "      <td>4.845</td>\n",
       "      <td>43.605</td>\n",
       "    </tr>\n",
       "    <tr>\n",
       "      <th>T19</th>\n",
       "      <td>52.954</td>\n",
       "      <td>4.814</td>\n",
       "      <td>43.326</td>\n",
       "    </tr>\n",
       "    <tr>\n",
       "      <th>T20</th>\n",
       "      <td>52.668</td>\n",
       "      <td>4.788</td>\n",
       "      <td>43.092</td>\n",
       "    </tr>\n",
       "    <tr>\n",
       "      <th>T21</th>\n",
       "      <td>52.195</td>\n",
       "      <td>4.745</td>\n",
       "      <td>42.705</td>\n",
       "    </tr>\n",
       "    <tr>\n",
       "      <th>T22</th>\n",
       "      <td>51.722</td>\n",
       "      <td>4.702</td>\n",
       "      <td>42.318</td>\n",
       "    </tr>\n",
       "    <tr>\n",
       "      <th>T23</th>\n",
       "      <td>51.095</td>\n",
       "      <td>4.645</td>\n",
       "      <td>41.805</td>\n",
       "    </tr>\n",
       "  </tbody>\n",
       "</table>\n",
       "</div>"
      ],
      "text/plain": [
       "     Lbound  Mbound  Ubound\n",
       "T2   53.482   4.862  43.758\n",
       "T3   53.306   4.846  43.614\n",
       "T4   52.888   4.808  43.272\n",
       "T5   53.724   4.884  43.956\n",
       "T6   53.262   4.842  43.578\n",
       "T7   52.470   4.770  42.930\n",
       "T8   52.349   4.759  42.831\n",
       "T9   51.590   4.690  42.210\n",
       "T10  53.900   4.900  44.100\n",
       "T11  51.645   4.695  42.255\n",
       "T12  51.337   4.667  42.003\n",
       "T13  49.676   4.516  40.644\n",
       "T14  50.314   4.574  41.166\n",
       "T15  52.272   4.752  42.768\n",
       "T16  52.426   4.766  42.894\n",
       "T17  52.778   4.798  43.182\n",
       "T18  53.295   4.845  43.605\n",
       "T19  52.954   4.814  43.326\n",
       "T20  52.668   4.788  43.092\n",
       "T21  52.195   4.745  42.705\n",
       "T22  51.722   4.702  42.318\n",
       "T23  51.095   4.645  41.805"
      ]
     },
     "execution_count": 45,
     "metadata": {},
     "output_type": "execute_result"
    }
   ],
   "source": [
    "data_column"
   ]
  },
  {
   "cell_type": "code",
   "execution_count": null,
   "metadata": {},
   "outputs": [],
   "source": []
  },
  {
   "cell_type": "code",
   "execution_count": null,
   "metadata": {},
   "outputs": [],
   "source": []
  },
  {
   "cell_type": "markdown",
   "metadata": {},
   "source": [
    "## Selecting in DataFrame"
   ]
  },
  {
   "cell_type": "markdown",
   "metadata": {},
   "source": [
    "### Columns"
   ]
  },
  {
   "cell_type": "markdown",
   "metadata": {},
   "source": [
    "Get one column of pandas"
   ]
  },
  {
   "cell_type": "code",
   "execution_count": 46,
   "metadata": {},
   "outputs": [
    {
     "data": {
      "text/plain": [
       "0     48.62\n",
       "1     48.46\n",
       "2     48.08\n",
       "3     48.84\n",
       "4     48.42\n",
       "5     47.70\n",
       "6     47.59\n",
       "7     46.90\n",
       "8     47.17\n",
       "9     46.95\n",
       "10    46.67\n",
       "11    45.16\n",
       "12    45.74\n",
       "13    47.52\n",
       "14    47.66\n",
       "15    47.98\n",
       "16    48.45\n",
       "17    48.14\n",
       "18    47.88\n",
       "19    47.45\n",
       "20    47.02\n",
       "21    46.45\n",
       "Name: MSFT, dtype: float64"
      ]
     },
     "execution_count": 46,
     "metadata": {},
     "output_type": "execute_result"
    }
   ],
   "source": [
    "df_csv['MSFT'] ## --> Series\n",
    "\n",
    "## Therefore, column behavior almost same as series"
   ]
  },
  {
   "cell_type": "code",
   "execution_count": 47,
   "metadata": {},
   "outputs": [
    {
     "data": {
      "text/html": [
       "<div>\n",
       "<style scoped>\n",
       "    .dataframe tbody tr th:only-of-type {\n",
       "        vertical-align: middle;\n",
       "    }\n",
       "\n",
       "    .dataframe tbody tr th {\n",
       "        vertical-align: top;\n",
       "    }\n",
       "\n",
       "    .dataframe thead th {\n",
       "        text-align: right;\n",
       "    }\n",
       "</style>\n",
       "<table border=\"1\" class=\"dataframe\">\n",
       "  <thead>\n",
       "    <tr style=\"text-align: right;\">\n",
       "      <th></th>\n",
       "      <th>MSFT</th>\n",
       "    </tr>\n",
       "  </thead>\n",
       "  <tbody>\n",
       "    <tr>\n",
       "      <th>0</th>\n",
       "      <td>48.62</td>\n",
       "    </tr>\n",
       "    <tr>\n",
       "      <th>1</th>\n",
       "      <td>48.46</td>\n",
       "    </tr>\n",
       "    <tr>\n",
       "      <th>2</th>\n",
       "      <td>48.08</td>\n",
       "    </tr>\n",
       "    <tr>\n",
       "      <th>3</th>\n",
       "      <td>48.84</td>\n",
       "    </tr>\n",
       "    <tr>\n",
       "      <th>4</th>\n",
       "      <td>48.42</td>\n",
       "    </tr>\n",
       "    <tr>\n",
       "      <th>5</th>\n",
       "      <td>47.70</td>\n",
       "    </tr>\n",
       "    <tr>\n",
       "      <th>6</th>\n",
       "      <td>47.59</td>\n",
       "    </tr>\n",
       "    <tr>\n",
       "      <th>7</th>\n",
       "      <td>46.90</td>\n",
       "    </tr>\n",
       "    <tr>\n",
       "      <th>8</th>\n",
       "      <td>47.17</td>\n",
       "    </tr>\n",
       "    <tr>\n",
       "      <th>9</th>\n",
       "      <td>46.95</td>\n",
       "    </tr>\n",
       "    <tr>\n",
       "      <th>10</th>\n",
       "      <td>46.67</td>\n",
       "    </tr>\n",
       "    <tr>\n",
       "      <th>11</th>\n",
       "      <td>45.16</td>\n",
       "    </tr>\n",
       "    <tr>\n",
       "      <th>12</th>\n",
       "      <td>45.74</td>\n",
       "    </tr>\n",
       "    <tr>\n",
       "      <th>13</th>\n",
       "      <td>47.52</td>\n",
       "    </tr>\n",
       "    <tr>\n",
       "      <th>14</th>\n",
       "      <td>47.66</td>\n",
       "    </tr>\n",
       "    <tr>\n",
       "      <th>15</th>\n",
       "      <td>47.98</td>\n",
       "    </tr>\n",
       "    <tr>\n",
       "      <th>16</th>\n",
       "      <td>48.45</td>\n",
       "    </tr>\n",
       "    <tr>\n",
       "      <th>17</th>\n",
       "      <td>48.14</td>\n",
       "    </tr>\n",
       "    <tr>\n",
       "      <th>18</th>\n",
       "      <td>47.88</td>\n",
       "    </tr>\n",
       "    <tr>\n",
       "      <th>19</th>\n",
       "      <td>47.45</td>\n",
       "    </tr>\n",
       "    <tr>\n",
       "      <th>20</th>\n",
       "      <td>47.02</td>\n",
       "    </tr>\n",
       "    <tr>\n",
       "      <th>21</th>\n",
       "      <td>46.45</td>\n",
       "    </tr>\n",
       "  </tbody>\n",
       "</table>\n",
       "</div>"
      ],
      "text/plain": [
       "     MSFT\n",
       "0   48.62\n",
       "1   48.46\n",
       "2   48.08\n",
       "3   48.84\n",
       "4   48.42\n",
       "5   47.70\n",
       "6   47.59\n",
       "7   46.90\n",
       "8   47.17\n",
       "9   46.95\n",
       "10  46.67\n",
       "11  45.16\n",
       "12  45.74\n",
       "13  47.52\n",
       "14  47.66\n",
       "15  47.98\n",
       "16  48.45\n",
       "17  48.14\n",
       "18  47.88\n",
       "19  47.45\n",
       "20  47.02\n",
       "21  46.45"
      ]
     },
     "execution_count": 47,
     "metadata": {},
     "output_type": "execute_result"
    }
   ],
   "source": [
    "df_csv[['MSFT']] ## --> DataFrame"
   ]
  },
  {
   "cell_type": "code",
   "execution_count": 48,
   "metadata": {},
   "outputs": [
    {
     "data": {
      "text/html": [
       "<div>\n",
       "<style scoped>\n",
       "    .dataframe tbody tr th:only-of-type {\n",
       "        vertical-align: middle;\n",
       "    }\n",
       "\n",
       "    .dataframe tbody tr th {\n",
       "        vertical-align: top;\n",
       "    }\n",
       "\n",
       "    .dataframe thead th {\n",
       "        text-align: right;\n",
       "    }\n",
       "</style>\n",
       "<table border=\"1\" class=\"dataframe\">\n",
       "  <thead>\n",
       "    <tr style=\"text-align: right;\">\n",
       "      <th></th>\n",
       "      <th>MSFT</th>\n",
       "      <th>AAPL</th>\n",
       "    </tr>\n",
       "  </thead>\n",
       "  <tbody>\n",
       "    <tr>\n",
       "      <th>0</th>\n",
       "      <td>48.62</td>\n",
       "      <td>115.07</td>\n",
       "    </tr>\n",
       "    <tr>\n",
       "      <th>1</th>\n",
       "      <td>48.46</td>\n",
       "      <td>114.63</td>\n",
       "    </tr>\n",
       "    <tr>\n",
       "      <th>2</th>\n",
       "      <td>48.08</td>\n",
       "      <td>115.93</td>\n",
       "    </tr>\n",
       "    <tr>\n",
       "      <th>3</th>\n",
       "      <td>48.84</td>\n",
       "      <td>115.49</td>\n",
       "    </tr>\n",
       "    <tr>\n",
       "      <th>4</th>\n",
       "      <td>48.42</td>\n",
       "      <td>115.00</td>\n",
       "    </tr>\n",
       "    <tr>\n",
       "      <th>5</th>\n",
       "      <td>47.70</td>\n",
       "      <td>112.40</td>\n",
       "    </tr>\n",
       "    <tr>\n",
       "      <th>6</th>\n",
       "      <td>47.59</td>\n",
       "      <td>114.12</td>\n",
       "    </tr>\n",
       "    <tr>\n",
       "      <th>7</th>\n",
       "      <td>46.90</td>\n",
       "      <td>111.95</td>\n",
       "    </tr>\n",
       "    <tr>\n",
       "      <th>8</th>\n",
       "      <td>47.17</td>\n",
       "      <td>111.62</td>\n",
       "    </tr>\n",
       "    <tr>\n",
       "      <th>9</th>\n",
       "      <td>46.95</td>\n",
       "      <td>109.73</td>\n",
       "    </tr>\n",
       "    <tr>\n",
       "      <th>10</th>\n",
       "      <td>46.67</td>\n",
       "      <td>108.23</td>\n",
       "    </tr>\n",
       "    <tr>\n",
       "      <th>11</th>\n",
       "      <td>45.16</td>\n",
       "      <td>106.75</td>\n",
       "    </tr>\n",
       "    <tr>\n",
       "      <th>12</th>\n",
       "      <td>45.74</td>\n",
       "      <td>109.41</td>\n",
       "    </tr>\n",
       "    <tr>\n",
       "      <th>13</th>\n",
       "      <td>47.52</td>\n",
       "      <td>112.65</td>\n",
       "    </tr>\n",
       "    <tr>\n",
       "      <th>14</th>\n",
       "      <td>47.66</td>\n",
       "      <td>111.78</td>\n",
       "    </tr>\n",
       "    <tr>\n",
       "      <th>15</th>\n",
       "      <td>47.98</td>\n",
       "      <td>112.94</td>\n",
       "    </tr>\n",
       "    <tr>\n",
       "      <th>16</th>\n",
       "      <td>48.45</td>\n",
       "      <td>112.54</td>\n",
       "    </tr>\n",
       "    <tr>\n",
       "      <th>17</th>\n",
       "      <td>48.14</td>\n",
       "      <td>112.01</td>\n",
       "    </tr>\n",
       "    <tr>\n",
       "      <th>18</th>\n",
       "      <td>47.88</td>\n",
       "      <td>113.99</td>\n",
       "    </tr>\n",
       "    <tr>\n",
       "      <th>19</th>\n",
       "      <td>47.45</td>\n",
       "      <td>113.91</td>\n",
       "    </tr>\n",
       "    <tr>\n",
       "      <th>20</th>\n",
       "      <td>47.02</td>\n",
       "      <td>112.52</td>\n",
       "    </tr>\n",
       "    <tr>\n",
       "      <th>21</th>\n",
       "      <td>46.45</td>\n",
       "      <td>110.38</td>\n",
       "    </tr>\n",
       "  </tbody>\n",
       "</table>\n",
       "</div>"
      ],
      "text/plain": [
       "     MSFT    AAPL\n",
       "0   48.62  115.07\n",
       "1   48.46  114.63\n",
       "2   48.08  115.93\n",
       "3   48.84  115.49\n",
       "4   48.42  115.00\n",
       "5   47.70  112.40\n",
       "6   47.59  114.12\n",
       "7   46.90  111.95\n",
       "8   47.17  111.62\n",
       "9   46.95  109.73\n",
       "10  46.67  108.23\n",
       "11  45.16  106.75\n",
       "12  45.74  109.41\n",
       "13  47.52  112.65\n",
       "14  47.66  111.78\n",
       "15  47.98  112.94\n",
       "16  48.45  112.54\n",
       "17  48.14  112.01\n",
       "18  47.88  113.99\n",
       "19  47.45  113.91\n",
       "20  47.02  112.52\n",
       "21  46.45  110.38"
      ]
     },
     "execution_count": 48,
     "metadata": {},
     "output_type": "execute_result"
    }
   ],
   "source": [
    "df_csv[['MSFT','AAPL']] ## --> DataFrame"
   ]
  },
  {
   "cell_type": "code",
   "execution_count": 49,
   "metadata": {},
   "outputs": [
    {
     "data": {
      "text/plain": [
       "RangeIndex(start=0, stop=22, step=1)"
      ]
     },
     "execution_count": 49,
     "metadata": {},
     "output_type": "execute_result"
    }
   ],
   "source": [
    "## get index\n",
    "df_csv[['MSFT']].index\n",
    "# df_csv[['MSFT']].index.tolist()"
   ]
  },
  {
   "cell_type": "code",
   "execution_count": null,
   "metadata": {},
   "outputs": [],
   "source": []
  },
  {
   "cell_type": "markdown",
   "metadata": {},
   "source": [
    "### rows"
   ]
  },
  {
   "cell_type": "code",
   "execution_count": 50,
   "metadata": {},
   "outputs": [
    {
     "data": {
      "text/html": [
       "<div>\n",
       "<style scoped>\n",
       "    .dataframe tbody tr th:only-of-type {\n",
       "        vertical-align: middle;\n",
       "    }\n",
       "\n",
       "    .dataframe tbody tr th {\n",
       "        vertical-align: top;\n",
       "    }\n",
       "\n",
       "    .dataframe thead th {\n",
       "        text-align: right;\n",
       "    }\n",
       "</style>\n",
       "<table border=\"1\" class=\"dataframe\">\n",
       "  <thead>\n",
       "    <tr style=\"text-align: right;\">\n",
       "      <th></th>\n",
       "      <th>Date</th>\n",
       "      <th>MSFT</th>\n",
       "      <th>AAPL</th>\n",
       "    </tr>\n",
       "  </thead>\n",
       "  <tbody>\n",
       "    <tr>\n",
       "      <th>10</th>\n",
       "      <td>2014-12-15</td>\n",
       "      <td>46.67</td>\n",
       "      <td>108.23</td>\n",
       "    </tr>\n",
       "    <tr>\n",
       "      <th>11</th>\n",
       "      <td>2014-12-16</td>\n",
       "      <td>45.16</td>\n",
       "      <td>106.75</td>\n",
       "    </tr>\n",
       "    <tr>\n",
       "      <th>12</th>\n",
       "      <td>2014-12-17</td>\n",
       "      <td>45.74</td>\n",
       "      <td>109.41</td>\n",
       "    </tr>\n",
       "    <tr>\n",
       "      <th>13</th>\n",
       "      <td>2014-12-18</td>\n",
       "      <td>47.52</td>\n",
       "      <td>112.65</td>\n",
       "    </tr>\n",
       "    <tr>\n",
       "      <th>14</th>\n",
       "      <td>2014-12-19</td>\n",
       "      <td>47.66</td>\n",
       "      <td>111.78</td>\n",
       "    </tr>\n",
       "  </tbody>\n",
       "</table>\n",
       "</div>"
      ],
      "text/plain": [
       "          Date   MSFT    AAPL\n",
       "10  2014-12-15  46.67  108.23\n",
       "11  2014-12-16  45.16  106.75\n",
       "12  2014-12-17  45.74  109.41\n",
       "13  2014-12-18  47.52  112.65\n",
       "14  2014-12-19  47.66  111.78"
      ]
     },
     "execution_count": 50,
     "metadata": {},
     "output_type": "execute_result"
    }
   ],
   "source": [
    "df_csv.iloc[10:15] ## -->DataFrame"
   ]
  },
  {
   "cell_type": "code",
   "execution_count": 51,
   "metadata": {},
   "outputs": [
    {
     "data": {
      "text/plain": [
       "Date    2014-12-12\n",
       "MSFT         46.95\n",
       "AAPL        109.73\n",
       "Name: 9, dtype: object"
      ]
     },
     "execution_count": 51,
     "metadata": {},
     "output_type": "execute_result"
    }
   ],
   "source": [
    "df_csv.iloc[9] ## -->series"
   ]
  },
  {
   "cell_type": "code",
   "execution_count": 52,
   "metadata": {},
   "outputs": [
    {
     "data": {
      "text/plain": [
       "Index(['Date', 'MSFT', 'AAPL'], dtype='object')"
      ]
     },
     "execution_count": 52,
     "metadata": {},
     "output_type": "execute_result"
    }
   ],
   "source": [
    "df_csv.iloc[9].index"
   ]
  },
  {
   "cell_type": "code",
   "execution_count": null,
   "metadata": {},
   "outputs": [],
   "source": []
  },
  {
   "cell_type": "markdown",
   "metadata": {},
   "source": [
    "### Selecting DataFrame - Boolean"
   ]
  },
  {
   "cell_type": "code",
   "execution_count": 53,
   "metadata": {},
   "outputs": [
    {
     "data": {
      "text/html": [
       "<div>\n",
       "<style scoped>\n",
       "    .dataframe tbody tr th:only-of-type {\n",
       "        vertical-align: middle;\n",
       "    }\n",
       "\n",
       "    .dataframe tbody tr th {\n",
       "        vertical-align: top;\n",
       "    }\n",
       "\n",
       "    .dataframe thead th {\n",
       "        text-align: right;\n",
       "    }\n",
       "</style>\n",
       "<table border=\"1\" class=\"dataframe\">\n",
       "  <thead>\n",
       "    <tr style=\"text-align: right;\">\n",
       "      <th></th>\n",
       "      <th>Date</th>\n",
       "      <th>MSFT</th>\n",
       "      <th>AAPL</th>\n",
       "    </tr>\n",
       "  </thead>\n",
       "  <tbody>\n",
       "    <tr>\n",
       "      <th>7</th>\n",
       "      <td>2014-12-10</td>\n",
       "      <td>46.90</td>\n",
       "      <td>111.95</td>\n",
       "    </tr>\n",
       "    <tr>\n",
       "      <th>9</th>\n",
       "      <td>2014-12-12</td>\n",
       "      <td>46.95</td>\n",
       "      <td>109.73</td>\n",
       "    </tr>\n",
       "    <tr>\n",
       "      <th>10</th>\n",
       "      <td>2014-12-15</td>\n",
       "      <td>46.67</td>\n",
       "      <td>108.23</td>\n",
       "    </tr>\n",
       "    <tr>\n",
       "      <th>11</th>\n",
       "      <td>2014-12-16</td>\n",
       "      <td>45.16</td>\n",
       "      <td>106.75</td>\n",
       "    </tr>\n",
       "    <tr>\n",
       "      <th>12</th>\n",
       "      <td>2014-12-17</td>\n",
       "      <td>45.74</td>\n",
       "      <td>109.41</td>\n",
       "    </tr>\n",
       "    <tr>\n",
       "      <th>21</th>\n",
       "      <td>2014-12-31</td>\n",
       "      <td>46.45</td>\n",
       "      <td>110.38</td>\n",
       "    </tr>\n",
       "  </tbody>\n",
       "</table>\n",
       "</div>"
      ],
      "text/plain": [
       "          Date   MSFT    AAPL\n",
       "7   2014-12-10  46.90  111.95\n",
       "9   2014-12-12  46.95  109.73\n",
       "10  2014-12-15  46.67  108.23\n",
       "11  2014-12-16  45.16  106.75\n",
       "12  2014-12-17  45.74  109.41\n",
       "21  2014-12-31  46.45  110.38"
      ]
     },
     "execution_count": 53,
     "metadata": {},
     "output_type": "execute_result"
    }
   ],
   "source": [
    "df_csv[df_csv['MSFT']<47]"
   ]
  },
  {
   "cell_type": "code",
   "execution_count": 54,
   "metadata": {},
   "outputs": [
    {
     "data": {
      "text/html": [
       "<div>\n",
       "<style scoped>\n",
       "    .dataframe tbody tr th:only-of-type {\n",
       "        vertical-align: middle;\n",
       "    }\n",
       "\n",
       "    .dataframe tbody tr th {\n",
       "        vertical-align: top;\n",
       "    }\n",
       "\n",
       "    .dataframe thead th {\n",
       "        text-align: right;\n",
       "    }\n",
       "</style>\n",
       "<table border=\"1\" class=\"dataframe\">\n",
       "  <thead>\n",
       "    <tr style=\"text-align: right;\">\n",
       "      <th></th>\n",
       "      <th>Date</th>\n",
       "      <th>MSFT</th>\n",
       "      <th>AAPL</th>\n",
       "    </tr>\n",
       "  </thead>\n",
       "  <tbody>\n",
       "    <tr>\n",
       "      <th>21</th>\n",
       "      <td>2014-12-31</td>\n",
       "      <td>46.45</td>\n",
       "      <td>110.38</td>\n",
       "    </tr>\n",
       "  </tbody>\n",
       "</table>\n",
       "</div>"
      ],
      "text/plain": [
       "          Date   MSFT    AAPL\n",
       "21  2014-12-31  46.45  110.38"
      ]
     },
     "execution_count": 54,
     "metadata": {},
     "output_type": "execute_result"
    }
   ],
   "source": [
    "df_csv[df_csv['MSFT']==46.45]"
   ]
  },
  {
   "cell_type": "code",
   "execution_count": 55,
   "metadata": {},
   "outputs": [
    {
     "data": {
      "text/html": [
       "<div>\n",
       "<style scoped>\n",
       "    .dataframe tbody tr th:only-of-type {\n",
       "        vertical-align: middle;\n",
       "    }\n",
       "\n",
       "    .dataframe tbody tr th {\n",
       "        vertical-align: top;\n",
       "    }\n",
       "\n",
       "    .dataframe thead th {\n",
       "        text-align: right;\n",
       "    }\n",
       "</style>\n",
       "<table border=\"1\" class=\"dataframe\">\n",
       "  <thead>\n",
       "    <tr style=\"text-align: right;\">\n",
       "      <th></th>\n",
       "      <th>Date</th>\n",
       "      <th>MSFT</th>\n",
       "      <th>AAPL</th>\n",
       "    </tr>\n",
       "  </thead>\n",
       "  <tbody>\n",
       "    <tr>\n",
       "      <th>5</th>\n",
       "      <td>2014-12-08</td>\n",
       "      <td>47.70</td>\n",
       "      <td>112.40</td>\n",
       "    </tr>\n",
       "    <tr>\n",
       "      <th>6</th>\n",
       "      <td>2014-12-09</td>\n",
       "      <td>47.59</td>\n",
       "      <td>114.12</td>\n",
       "    </tr>\n",
       "    <tr>\n",
       "      <th>7</th>\n",
       "      <td>2014-12-10</td>\n",
       "      <td>46.90</td>\n",
       "      <td>111.95</td>\n",
       "    </tr>\n",
       "    <tr>\n",
       "      <th>8</th>\n",
       "      <td>2014-12-11</td>\n",
       "      <td>47.17</td>\n",
       "      <td>111.62</td>\n",
       "    </tr>\n",
       "    <tr>\n",
       "      <th>13</th>\n",
       "      <td>2014-12-18</td>\n",
       "      <td>47.52</td>\n",
       "      <td>112.65</td>\n",
       "    </tr>\n",
       "    <tr>\n",
       "      <th>14</th>\n",
       "      <td>2014-12-19</td>\n",
       "      <td>47.66</td>\n",
       "      <td>111.78</td>\n",
       "    </tr>\n",
       "    <tr>\n",
       "      <th>15</th>\n",
       "      <td>2014-12-22</td>\n",
       "      <td>47.98</td>\n",
       "      <td>112.94</td>\n",
       "    </tr>\n",
       "    <tr>\n",
       "      <th>18</th>\n",
       "      <td>2014-12-26</td>\n",
       "      <td>47.88</td>\n",
       "      <td>113.99</td>\n",
       "    </tr>\n",
       "    <tr>\n",
       "      <th>19</th>\n",
       "      <td>2014-12-29</td>\n",
       "      <td>47.45</td>\n",
       "      <td>113.91</td>\n",
       "    </tr>\n",
       "    <tr>\n",
       "      <th>20</th>\n",
       "      <td>2014-12-30</td>\n",
       "      <td>47.02</td>\n",
       "      <td>112.52</td>\n",
       "    </tr>\n",
       "  </tbody>\n",
       "</table>\n",
       "</div>"
      ],
      "text/plain": [
       "          Date   MSFT    AAPL\n",
       "5   2014-12-08  47.70  112.40\n",
       "6   2014-12-09  47.59  114.12\n",
       "7   2014-12-10  46.90  111.95\n",
       "8   2014-12-11  47.17  111.62\n",
       "13  2014-12-18  47.52  112.65\n",
       "14  2014-12-19  47.66  111.78\n",
       "15  2014-12-22  47.98  112.94\n",
       "18  2014-12-26  47.88  113.99\n",
       "19  2014-12-29  47.45  113.91\n",
       "20  2014-12-30  47.02  112.52"
      ]
     },
     "execution_count": 55,
     "metadata": {},
     "output_type": "execute_result"
    }
   ],
   "source": [
    "df_csv[(df_csv['MSFT']<48)&(df_csv['AAPL']>111)]"
   ]
  },
  {
   "cell_type": "code",
   "execution_count": null,
   "metadata": {},
   "outputs": [],
   "source": []
  },
  {
   "cell_type": "markdown",
   "metadata": {},
   "source": [
    "### Get Specific Range"
   ]
  },
  {
   "cell_type": "code",
   "execution_count": 56,
   "metadata": {},
   "outputs": [
    {
     "data": {
      "text/html": [
       "<div>\n",
       "<style scoped>\n",
       "    .dataframe tbody tr th:only-of-type {\n",
       "        vertical-align: middle;\n",
       "    }\n",
       "\n",
       "    .dataframe tbody tr th {\n",
       "        vertical-align: top;\n",
       "    }\n",
       "\n",
       "    .dataframe thead th {\n",
       "        text-align: right;\n",
       "    }\n",
       "</style>\n",
       "<table border=\"1\" class=\"dataframe\">\n",
       "  <thead>\n",
       "    <tr style=\"text-align: right;\">\n",
       "      <th></th>\n",
       "      <th>Date</th>\n",
       "      <th>MSFT</th>\n",
       "      <th>AAPL</th>\n",
       "    </tr>\n",
       "  </thead>\n",
       "  <tbody>\n",
       "    <tr>\n",
       "      <th>0</th>\n",
       "      <td>2014-12-01</td>\n",
       "      <td>48.62</td>\n",
       "      <td>115.07</td>\n",
       "    </tr>\n",
       "    <tr>\n",
       "      <th>1</th>\n",
       "      <td>2014-12-02</td>\n",
       "      <td>48.46</td>\n",
       "      <td>114.63</td>\n",
       "    </tr>\n",
       "    <tr>\n",
       "      <th>2</th>\n",
       "      <td>2014-12-03</td>\n",
       "      <td>48.08</td>\n",
       "      <td>115.93</td>\n",
       "    </tr>\n",
       "    <tr>\n",
       "      <th>3</th>\n",
       "      <td>2014-12-04</td>\n",
       "      <td>48.84</td>\n",
       "      <td>115.49</td>\n",
       "    </tr>\n",
       "    <tr>\n",
       "      <th>4</th>\n",
       "      <td>2014-12-05</td>\n",
       "      <td>48.42</td>\n",
       "      <td>115.00</td>\n",
       "    </tr>\n",
       "    <tr>\n",
       "      <th>5</th>\n",
       "      <td>2014-12-08</td>\n",
       "      <td>47.70</td>\n",
       "      <td>112.40</td>\n",
       "    </tr>\n",
       "    <tr>\n",
       "      <th>6</th>\n",
       "      <td>2014-12-09</td>\n",
       "      <td>47.59</td>\n",
       "      <td>114.12</td>\n",
       "    </tr>\n",
       "    <tr>\n",
       "      <th>7</th>\n",
       "      <td>2014-12-10</td>\n",
       "      <td>46.90</td>\n",
       "      <td>111.95</td>\n",
       "    </tr>\n",
       "    <tr>\n",
       "      <th>8</th>\n",
       "      <td>2014-12-11</td>\n",
       "      <td>47.17</td>\n",
       "      <td>111.62</td>\n",
       "    </tr>\n",
       "    <tr>\n",
       "      <th>9</th>\n",
       "      <td>2014-12-12</td>\n",
       "      <td>46.95</td>\n",
       "      <td>109.73</td>\n",
       "    </tr>\n",
       "    <tr>\n",
       "      <th>10</th>\n",
       "      <td>2014-12-15</td>\n",
       "      <td>46.67</td>\n",
       "      <td>108.23</td>\n",
       "    </tr>\n",
       "    <tr>\n",
       "      <th>11</th>\n",
       "      <td>2014-12-16</td>\n",
       "      <td>45.16</td>\n",
       "      <td>106.75</td>\n",
       "    </tr>\n",
       "    <tr>\n",
       "      <th>12</th>\n",
       "      <td>2014-12-17</td>\n",
       "      <td>45.74</td>\n",
       "      <td>109.41</td>\n",
       "    </tr>\n",
       "    <tr>\n",
       "      <th>13</th>\n",
       "      <td>2014-12-18</td>\n",
       "      <td>47.52</td>\n",
       "      <td>112.65</td>\n",
       "    </tr>\n",
       "    <tr>\n",
       "      <th>14</th>\n",
       "      <td>2014-12-19</td>\n",
       "      <td>47.66</td>\n",
       "      <td>111.78</td>\n",
       "    </tr>\n",
       "    <tr>\n",
       "      <th>15</th>\n",
       "      <td>2014-12-22</td>\n",
       "      <td>47.98</td>\n",
       "      <td>112.94</td>\n",
       "    </tr>\n",
       "    <tr>\n",
       "      <th>16</th>\n",
       "      <td>2014-12-23</td>\n",
       "      <td>48.45</td>\n",
       "      <td>112.54</td>\n",
       "    </tr>\n",
       "    <tr>\n",
       "      <th>17</th>\n",
       "      <td>2014-12-24</td>\n",
       "      <td>48.14</td>\n",
       "      <td>112.01</td>\n",
       "    </tr>\n",
       "    <tr>\n",
       "      <th>18</th>\n",
       "      <td>2014-12-26</td>\n",
       "      <td>47.88</td>\n",
       "      <td>113.99</td>\n",
       "    </tr>\n",
       "    <tr>\n",
       "      <th>19</th>\n",
       "      <td>2014-12-29</td>\n",
       "      <td>47.45</td>\n",
       "      <td>113.91</td>\n",
       "    </tr>\n",
       "    <tr>\n",
       "      <th>20</th>\n",
       "      <td>2014-12-30</td>\n",
       "      <td>47.02</td>\n",
       "      <td>112.52</td>\n",
       "    </tr>\n",
       "    <tr>\n",
       "      <th>21</th>\n",
       "      <td>2014-12-31</td>\n",
       "      <td>46.45</td>\n",
       "      <td>110.38</td>\n",
       "    </tr>\n",
       "  </tbody>\n",
       "</table>\n",
       "</div>"
      ],
      "text/plain": [
       "          Date   MSFT    AAPL\n",
       "0   2014-12-01  48.62  115.07\n",
       "1   2014-12-02  48.46  114.63\n",
       "2   2014-12-03  48.08  115.93\n",
       "3   2014-12-04  48.84  115.49\n",
       "4   2014-12-05  48.42  115.00\n",
       "5   2014-12-08  47.70  112.40\n",
       "6   2014-12-09  47.59  114.12\n",
       "7   2014-12-10  46.90  111.95\n",
       "8   2014-12-11  47.17  111.62\n",
       "9   2014-12-12  46.95  109.73\n",
       "10  2014-12-15  46.67  108.23\n",
       "11  2014-12-16  45.16  106.75\n",
       "12  2014-12-17  45.74  109.41\n",
       "13  2014-12-18  47.52  112.65\n",
       "14  2014-12-19  47.66  111.78\n",
       "15  2014-12-22  47.98  112.94\n",
       "16  2014-12-23  48.45  112.54\n",
       "17  2014-12-24  48.14  112.01\n",
       "18  2014-12-26  47.88  113.99\n",
       "19  2014-12-29  47.45  113.91\n",
       "20  2014-12-30  47.02  112.52\n",
       "21  2014-12-31  46.45  110.38"
      ]
     },
     "execution_count": 56,
     "metadata": {},
     "output_type": "execute_result"
    }
   ],
   "source": [
    "df_csv"
   ]
  },
  {
   "cell_type": "code",
   "execution_count": 57,
   "metadata": {},
   "outputs": [
    {
     "data": {
      "text/plain": [
       "47.7"
      ]
     },
     "execution_count": 57,
     "metadata": {},
     "output_type": "execute_result"
    }
   ],
   "source": [
    "df_csv.at[5,'MSFT']"
   ]
  },
  {
   "cell_type": "code",
   "execution_count": 58,
   "metadata": {},
   "outputs": [
    {
     "data": {
      "text/plain": [
       "112.4"
      ]
     },
     "execution_count": 58,
     "metadata": {},
     "output_type": "execute_result"
    }
   ],
   "source": [
    "df_csv.at[5,'AAPL']"
   ]
  },
  {
   "cell_type": "code",
   "execution_count": 59,
   "metadata": {},
   "outputs": [
    {
     "data": {
      "text/html": [
       "<div>\n",
       "<style scoped>\n",
       "    .dataframe tbody tr th:only-of-type {\n",
       "        vertical-align: middle;\n",
       "    }\n",
       "\n",
       "    .dataframe tbody tr th {\n",
       "        vertical-align: top;\n",
       "    }\n",
       "\n",
       "    .dataframe thead th {\n",
       "        text-align: right;\n",
       "    }\n",
       "</style>\n",
       "<table border=\"1\" class=\"dataframe\">\n",
       "  <thead>\n",
       "    <tr style=\"text-align: right;\">\n",
       "      <th></th>\n",
       "      <th>MSFT</th>\n",
       "      <th>AAPL</th>\n",
       "    </tr>\n",
       "  </thead>\n",
       "  <tbody>\n",
       "    <tr>\n",
       "      <th>5</th>\n",
       "      <td>47.70</td>\n",
       "      <td>112.40</td>\n",
       "    </tr>\n",
       "    <tr>\n",
       "      <th>6</th>\n",
       "      <td>47.59</td>\n",
       "      <td>114.12</td>\n",
       "    </tr>\n",
       "    <tr>\n",
       "      <th>7</th>\n",
       "      <td>46.90</td>\n",
       "      <td>111.95</td>\n",
       "    </tr>\n",
       "    <tr>\n",
       "      <th>8</th>\n",
       "      <td>47.17</td>\n",
       "      <td>111.62</td>\n",
       "    </tr>\n",
       "    <tr>\n",
       "      <th>9</th>\n",
       "      <td>46.95</td>\n",
       "      <td>109.73</td>\n",
       "    </tr>\n",
       "  </tbody>\n",
       "</table>\n",
       "</div>"
      ],
      "text/plain": [
       "    MSFT    AAPL\n",
       "5  47.70  112.40\n",
       "6  47.59  114.12\n",
       "7  46.90  111.95\n",
       "8  47.17  111.62\n",
       "9  46.95  109.73"
      ]
     },
     "execution_count": 59,
     "metadata": {},
     "output_type": "execute_result"
    }
   ],
   "source": [
    "df_csv[['MSFT','AAPL']][5:10]"
   ]
  },
  {
   "cell_type": "code",
   "execution_count": null,
   "metadata": {},
   "outputs": [],
   "source": []
  },
  {
   "cell_type": "markdown",
   "metadata": {},
   "source": [
    "## DataFrame Summary"
   ]
  },
  {
   "cell_type": "code",
   "execution_count": 60,
   "metadata": {},
   "outputs": [
    {
     "name": "stdout",
     "output_type": "stream",
     "text": [
      "<class 'pandas.core.frame.DataFrame'>\n",
      "RangeIndex: 22 entries, 0 to 21\n",
      "Data columns (total 3 columns):\n",
      "Date    22 non-null object\n",
      "MSFT    22 non-null float64\n",
      "AAPL    22 non-null float64\n",
      "dtypes: float64(2), object(1)\n",
      "memory usage: 608.0+ bytes\n"
     ]
    }
   ],
   "source": [
    "df_csv.info()"
   ]
  },
  {
   "cell_type": "code",
   "execution_count": 61,
   "metadata": {},
   "outputs": [],
   "source": [
    "df_csv2 = pd.read_csv(PATH_DATA +'omh_data.csv',parse_dates=['Date'])"
   ]
  },
  {
   "cell_type": "code",
   "execution_count": 62,
   "metadata": {},
   "outputs": [
    {
     "name": "stdout",
     "output_type": "stream",
     "text": [
      "<class 'pandas.core.frame.DataFrame'>\n",
      "RangeIndex: 22 entries, 0 to 21\n",
      "Data columns (total 3 columns):\n",
      "Date    22 non-null datetime64[ns]\n",
      "MSFT    22 non-null float64\n",
      "AAPL    22 non-null float64\n",
      "dtypes: datetime64[ns](1), float64(2)\n",
      "memory usage: 608.0 bytes\n"
     ]
    }
   ],
   "source": [
    "df_csv2.info()"
   ]
  },
  {
   "cell_type": "code",
   "execution_count": null,
   "metadata": {},
   "outputs": [],
   "source": []
  },
  {
   "cell_type": "code",
   "execution_count": 63,
   "metadata": {},
   "outputs": [
    {
     "data": {
      "text/html": [
       "<div>\n",
       "<style scoped>\n",
       "    .dataframe tbody tr th:only-of-type {\n",
       "        vertical-align: middle;\n",
       "    }\n",
       "\n",
       "    .dataframe tbody tr th {\n",
       "        vertical-align: top;\n",
       "    }\n",
       "\n",
       "    .dataframe thead th {\n",
       "        text-align: right;\n",
       "    }\n",
       "</style>\n",
       "<table border=\"1\" class=\"dataframe\">\n",
       "  <thead>\n",
       "    <tr style=\"text-align: right;\">\n",
       "      <th></th>\n",
       "      <th>MSFT</th>\n",
       "      <th>AAPL</th>\n",
       "    </tr>\n",
       "  </thead>\n",
       "  <tbody>\n",
       "    <tr>\n",
       "      <th>count</th>\n",
       "      <td>22.000000</td>\n",
       "      <td>22.000000</td>\n",
       "    </tr>\n",
       "    <tr>\n",
       "      <th>mean</th>\n",
       "      <td>47.493182</td>\n",
       "      <td>112.411364</td>\n",
       "    </tr>\n",
       "    <tr>\n",
       "      <th>std</th>\n",
       "      <td>0.933077</td>\n",
       "      <td>2.388772</td>\n",
       "    </tr>\n",
       "    <tr>\n",
       "      <th>min</th>\n",
       "      <td>45.160000</td>\n",
       "      <td>106.750000</td>\n",
       "    </tr>\n",
       "    <tr>\n",
       "      <th>25%</th>\n",
       "      <td>46.967500</td>\n",
       "      <td>111.660000</td>\n",
       "    </tr>\n",
       "    <tr>\n",
       "      <th>50%</th>\n",
       "      <td>47.625000</td>\n",
       "      <td>112.530000</td>\n",
       "    </tr>\n",
       "    <tr>\n",
       "      <th>75%</th>\n",
       "      <td>48.125000</td>\n",
       "      <td>114.087500</td>\n",
       "    </tr>\n",
       "    <tr>\n",
       "      <th>max</th>\n",
       "      <td>48.840000</td>\n",
       "      <td>115.930000</td>\n",
       "    </tr>\n",
       "  </tbody>\n",
       "</table>\n",
       "</div>"
      ],
      "text/plain": [
       "            MSFT        AAPL\n",
       "count  22.000000   22.000000\n",
       "mean   47.493182  112.411364\n",
       "std     0.933077    2.388772\n",
       "min    45.160000  106.750000\n",
       "25%    46.967500  111.660000\n",
       "50%    47.625000  112.530000\n",
       "75%    48.125000  114.087500\n",
       "max    48.840000  115.930000"
      ]
     },
     "execution_count": 63,
     "metadata": {},
     "output_type": "execute_result"
    }
   ],
   "source": [
    "df_csv.describe()"
   ]
  },
  {
   "cell_type": "code",
   "execution_count": 64,
   "metadata": {},
   "outputs": [
    {
     "data": {
      "text/plain": [
       "count             22\n",
       "unique            22\n",
       "top       2014-12-24\n",
       "freq               1\n",
       "Name: Date, dtype: object"
      ]
     },
     "execution_count": 64,
     "metadata": {},
     "output_type": "execute_result"
    }
   ],
   "source": [
    "df_csv['Date'].describe()"
   ]
  },
  {
   "cell_type": "code",
   "execution_count": null,
   "metadata": {},
   "outputs": [],
   "source": []
  }
 ],
 "metadata": {
  "kernelspec": {
   "display_name": "Python 3",
   "language": "python",
   "name": "python3"
  },
  "language_info": {
   "codemirror_mode": {
    "name": "ipython",
    "version": 3
   },
   "file_extension": ".py",
   "mimetype": "text/x-python",
   "name": "python",
   "nbconvert_exporter": "python",
   "pygments_lexer": "ipython3",
   "version": "3.8.8"
  }
 },
 "nbformat": 4,
 "nbformat_minor": 4
}
